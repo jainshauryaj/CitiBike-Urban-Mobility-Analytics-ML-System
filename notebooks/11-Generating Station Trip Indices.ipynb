{
 "cells": [
  {
   "cell_type": "markdown",
   "metadata": {},
   "source": [
    "# Indexing by Station\n",
    "\n",
    "While I am storing data on the level of *trips*, I need to access it on the level of *stations*. Since the search strategy for determining which bikes correspond with which stations is complex, and would require a full scan of the data, I need to speed this up by precomputing an index.\n",
    "\n",
    "I already did that work in `08` and `09` while generating counts of things, so I in part reuse that code here."
   ]
  },
  {
   "cell_type": "code",
   "execution_count": 1,
   "metadata": {
    "collapsed": true
   },
   "outputs": [],
   "source": [
    "import pandas as pd\n",
    "import numpy as np\n",
    "import matplotlib.pyplot as plt\n",
    "%matplotlib inline\n",
    "import seaborn as sns\n",
    "import requests\n",
    "import io\n",
    "import zipfile\n",
    "from tqdm import tqdm"
   ]
  },
  {
   "cell_type": "code",
   "execution_count": 2,
   "metadata": {
    "collapsed": true
   },
   "outputs": [],
   "source": [
    "stations = pd.read_csv(\"../data/final/june_22_station_metadata.csv\", index_col=0)"
   ]
  },
  {
   "cell_type": "code",
   "execution_count": 3,
   "metadata": {
    "collapsed": true
   },
   "outputs": [],
   "source": [
    "june_22 = pd.read_csv(\"../data/final/all_june_22_citibike_trips.csv\", index_col=0)"
   ]
  },
  {
   "cell_type": "markdown",
   "metadata": {},
   "source": [
    "## Outbound bike trips\n",
    "\n",
    "The following cell generates a dict of stations by bikes which began the day there."
   ]
  },
  {
   "cell_type": "code",
   "execution_count": 4,
   "metadata": {
    "collapsed": false
   },
   "outputs": [
    {
     "name": "stderr",
     "output_type": "stream",
     "text": [
      "100%|████████████████████████████████████| 6493/6493 [00:05<00:00, 1096.73it/s]\n"
     ]
    }
   ],
   "source": [
    "outbound_station_bikesets = {station_id: [] for station_id in stations.index}\n",
    "\n",
    "for bike_id in tqdm(np.unique(june_22['bikeid'])):\n",
    "    first_trip_station = june_22[june_22['bikeid'] == bike_id].sort_values(by='starttime').iloc[0]['start station id']\n",
    "    outbound_station_bikesets[first_trip_station].append(bike_id)"
   ]
  },
  {
   "cell_type": "markdown",
   "metadata": {},
   "source": [
    "The index is structured like so:\n",
    "\n",
    "    {<station id>: [<bike id>, <bike id>, ...]}\n",
    "\n",
    "Ok great, but now we need to convert that set of bike ids to sets of trip ids."
   ]
  },
  {
   "cell_type": "code",
   "execution_count": 5,
   "metadata": {
    "collapsed": false
   },
   "outputs": [
    {
     "name": "stderr",
     "output_type": "stream",
     "text": [
      "100%|███████████████████████████████████████| 474/474 [00:02<00:00, 163.16it/s]\n"
     ]
    }
   ],
   "source": [
    "import functools\n",
    "outbound_bike_trip_index = dict()\n",
    "\n",
    "for station_id, bike_id_list in tqdm(outbound_station_bikesets.items()):\n",
    "    trip_set = []\n",
    "    for bike_id in bike_id_list:\n",
    "        trip_set.append(list(june_22[june_22['bikeid'] == bike_id].index.values))\n",
    "    if len(trip_set) > 0:\n",
    "        trip_set = functools.reduce(lambda x,y: x+y, trip_set)\n",
    "    outbound_bike_trip_index[station_id] = trip_set"
   ]
  },
  {
   "cell_type": "markdown",
   "metadata": {},
   "source": [
    "And there you have it."
   ]
  },
  {
   "cell_type": "code",
   "execution_count": 9,
   "metadata": {
    "collapsed": false,
    "scrolled": true
   },
   "outputs": [
    {
     "data": {
      "text/plain": [
       "[1005037,\n",
       " 1005697,\n",
       " 1034787,\n",
       " 1035581,\n",
       " 1005015,\n",
       " 1006619,\n",
       " 1007494,\n",
       " 1010797,\n",
       " 1012207,\n",
       " 1013222,\n",
       " 1013964,\n",
       " 1015458,\n",
       " 1023771,\n",
       " 1024868,\n",
       " 1028162,\n",
       " 1030868,\n",
       " 1032378,\n",
       " 1047538,\n",
       " 1049546,\n",
       " 1051784,\n",
       " 210,\n",
       " 1016277,\n",
       " 1027213,\n",
       " 1032934,\n",
       " 1036287]"
      ]
     },
     "execution_count": 9,
     "metadata": {},
     "output_type": "execute_result"
    }
   ],
   "source": [
    "outbound_bike_trip_index[72]"
   ]
  },
  {
   "cell_type": "markdown",
   "metadata": {},
   "source": [
    "BEGIN TEMP"
   ]
  },
  {
   "cell_type": "code",
   "execution_count": 29,
   "metadata": {
    "collapsed": false,
    "scrolled": true
   },
   "outputs": [
    {
     "data": {
      "text/html": [
       "<div>\n",
       "<table border=\"1\" class=\"dataframe\">\n",
       "  <thead>\n",
       "    <tr style=\"text-align: right;\">\n",
       "      <th></th>\n",
       "      <th>bikeid</th>\n",
       "      <th>birth year</th>\n",
       "      <th>end station id</th>\n",
       "      <th>end station latitude</th>\n",
       "      <th>end station longitude</th>\n",
       "      <th>end station name</th>\n",
       "      <th>gender</th>\n",
       "      <th>start station id</th>\n",
       "      <th>start station latitude</th>\n",
       "      <th>start station longitude</th>\n",
       "      <th>start station name</th>\n",
       "      <th>starttime</th>\n",
       "      <th>stoptime</th>\n",
       "      <th>tripduration</th>\n",
       "      <th>usertype</th>\n",
       "    </tr>\n",
       "  </thead>\n",
       "  <tbody>\n",
       "    <tr>\n",
       "      <th>1006021</th>\n",
       "      <td>16396</td>\n",
       "      <td>1956.0</td>\n",
       "      <td>515</td>\n",
       "      <td>40.760094</td>\n",
       "      <td>-73.994618</td>\n",
       "      <td>W 43 St &amp; 10 Ave</td>\n",
       "      <td>1</td>\n",
       "      <td>3230</td>\n",
       "      <td>40.751284</td>\n",
       "      <td>-73.996924</td>\n",
       "      <td>Penn Station Valet</td>\n",
       "      <td>6/22/2016 06:01:37</td>\n",
       "      <td>6/22/2016 06:06:50</td>\n",
       "      <td>312</td>\n",
       "      <td>Subscriber</td>\n",
       "    </tr>\n",
       "  </tbody>\n",
       "</table>\n",
       "</div>"
      ],
      "text/plain": [
       "         bikeid  birth year  end station id  end station latitude  \\\n",
       "1006021   16396      1956.0             515             40.760094   \n",
       "\n",
       "         end station longitude  end station name  gender  start station id  \\\n",
       "1006021             -73.994618  W 43 St & 10 Ave       1              3230   \n",
       "\n",
       "         start station latitude  start station longitude  start station name  \\\n",
       "1006021               40.751284               -73.996924  Penn Station Valet   \n",
       "\n",
       "                  starttime            stoptime  tripduration    usertype  \n",
       "1006021  6/22/2016 06:01:37  6/22/2016 06:06:50           312  Subscriber  "
      ]
     },
     "execution_count": 29,
     "metadata": {},
     "output_type": "execute_result"
    }
   ],
   "source": [
    "# This is what outbounds from Penn Valet look like when we select them using the just-build index.\n",
    "penn_by_index = june_22[june_22.index.isin(outbound_bike_trip_index[3230])]\n",
    "penn_by_index.head(1)"
   ]
  },
  {
   "cell_type": "code",
   "execution_count": 33,
   "metadata": {
    "collapsed": false
   },
   "outputs": [
    {
     "data": {
      "text/html": [
       "<div>\n",
       "<table border=\"1\" class=\"dataframe\">\n",
       "  <thead>\n",
       "    <tr style=\"text-align: right;\">\n",
       "      <th></th>\n",
       "      <th>bikeid</th>\n",
       "      <th>birth year</th>\n",
       "      <th>end station id</th>\n",
       "      <th>end station latitude</th>\n",
       "      <th>end station longitude</th>\n",
       "      <th>end station name</th>\n",
       "      <th>gender</th>\n",
       "      <th>start station id</th>\n",
       "      <th>start station latitude</th>\n",
       "      <th>start station longitude</th>\n",
       "      <th>start station name</th>\n",
       "      <th>starttime</th>\n",
       "      <th>stoptime</th>\n",
       "      <th>tripduration</th>\n",
       "      <th>usertype</th>\n",
       "    </tr>\n",
       "  </thead>\n",
       "  <tbody>\n",
       "    <tr>\n",
       "      <th>1009289</th>\n",
       "      <td>15636</td>\n",
       "      <td>1976.0</td>\n",
       "      <td>153</td>\n",
       "      <td>40.752062</td>\n",
       "      <td>-73.981632</td>\n",
       "      <td>E 40 St &amp; 5 Ave</td>\n",
       "      <td>1</td>\n",
       "      <td>3230</td>\n",
       "      <td>40.751284</td>\n",
       "      <td>-73.996924</td>\n",
       "      <td>Penn Station Valet</td>\n",
       "      <td>6/22/2016 07:40:55</td>\n",
       "      <td>6/22/2016 07:50:21</td>\n",
       "      <td>566</td>\n",
       "      <td>Subscriber</td>\n",
       "    </tr>\n",
       "    <tr>\n",
       "      <th>1009990</th>\n",
       "      <td>15636</td>\n",
       "      <td>1959.0</td>\n",
       "      <td>3236</td>\n",
       "      <td>40.758985</td>\n",
       "      <td>-73.993800</td>\n",
       "      <td>W 42 St &amp; Dyer Ave</td>\n",
       "      <td>1</td>\n",
       "      <td>153</td>\n",
       "      <td>40.752062</td>\n",
       "      <td>-73.981632</td>\n",
       "      <td>E 40 St &amp; 5 Ave</td>\n",
       "      <td>6/22/2016 07:51:39</td>\n",
       "      <td>6/22/2016 08:03:35</td>\n",
       "      <td>716</td>\n",
       "      <td>Subscriber</td>\n",
       "    </tr>\n",
       "    <tr>\n",
       "      <th>1010891</th>\n",
       "      <td>15636</td>\n",
       "      <td>1969.0</td>\n",
       "      <td>513</td>\n",
       "      <td>40.768254</td>\n",
       "      <td>-73.988639</td>\n",
       "      <td>W 56 St &amp; 10 Ave</td>\n",
       "      <td>1</td>\n",
       "      <td>3236</td>\n",
       "      <td>40.758985</td>\n",
       "      <td>-73.993800</td>\n",
       "      <td>W 42 St &amp; Dyer Ave</td>\n",
       "      <td>6/22/2016 08:04:34</td>\n",
       "      <td>6/22/2016 08:09:39</td>\n",
       "      <td>304</td>\n",
       "      <td>Subscriber</td>\n",
       "    </tr>\n",
       "    <tr>\n",
       "      <th>1011481</th>\n",
       "      <td>15636</td>\n",
       "      <td>1945.0</td>\n",
       "      <td>470</td>\n",
       "      <td>40.743453</td>\n",
       "      <td>-74.000040</td>\n",
       "      <td>W 20 St &amp; 8 Ave</td>\n",
       "      <td>1</td>\n",
       "      <td>513</td>\n",
       "      <td>40.768254</td>\n",
       "      <td>-73.988639</td>\n",
       "      <td>W 56 St &amp; 10 Ave</td>\n",
       "      <td>6/22/2016 08:11:43</td>\n",
       "      <td>6/22/2016 08:26:04</td>\n",
       "      <td>861</td>\n",
       "      <td>Subscriber</td>\n",
       "    </tr>\n",
       "    <tr>\n",
       "      <th>1012800</th>\n",
       "      <td>15636</td>\n",
       "      <td>1991.0</td>\n",
       "      <td>534</td>\n",
       "      <td>40.702551</td>\n",
       "      <td>-74.012723</td>\n",
       "      <td>Water - Whitehall Plaza</td>\n",
       "      <td>1</td>\n",
       "      <td>470</td>\n",
       "      <td>40.743453</td>\n",
       "      <td>-74.000040</td>\n",
       "      <td>W 20 St &amp; 8 Ave</td>\n",
       "      <td>6/22/2016 08:27:26</td>\n",
       "      <td>6/22/2016 08:46:20</td>\n",
       "      <td>1133</td>\n",
       "      <td>Subscriber</td>\n",
       "    </tr>\n",
       "    <tr>\n",
       "      <th>1017376</th>\n",
       "      <td>15636</td>\n",
       "      <td>1984.0</td>\n",
       "      <td>304</td>\n",
       "      <td>40.704633</td>\n",
       "      <td>-74.013617</td>\n",
       "      <td>Broadway &amp; Battery Pl</td>\n",
       "      <td>1</td>\n",
       "      <td>534</td>\n",
       "      <td>40.702551</td>\n",
       "      <td>-74.012723</td>\n",
       "      <td>Water - Whitehall Plaza</td>\n",
       "      <td>6/22/2016 09:16:53</td>\n",
       "      <td>6/22/2016 09:18:46</td>\n",
       "      <td>113</td>\n",
       "      <td>Subscriber</td>\n",
       "    </tr>\n",
       "    <tr>\n",
       "      <th>1038641</th>\n",
       "      <td>15636</td>\n",
       "      <td>1976.0</td>\n",
       "      <td>157</td>\n",
       "      <td>40.690893</td>\n",
       "      <td>-73.996123</td>\n",
       "      <td>Henry St &amp; Atlantic Ave</td>\n",
       "      <td>1</td>\n",
       "      <td>2000</td>\n",
       "      <td>40.702551</td>\n",
       "      <td>-73.989402</td>\n",
       "      <td>Front St &amp; Washington St</td>\n",
       "      <td>6/22/2016 17:18:53</td>\n",
       "      <td>6/22/2016 17:27:45</td>\n",
       "      <td>531</td>\n",
       "      <td>Subscriber</td>\n",
       "    </tr>\n",
       "    <tr>\n",
       "      <th>115</th>\n",
       "      <td>15636</td>\n",
       "      <td>0.0</td>\n",
       "      <td>2000</td>\n",
       "      <td>40.702551</td>\n",
       "      <td>-73.989402</td>\n",
       "      <td>Front St &amp; Washington St</td>\n",
       "      <td>3</td>\n",
       "      <td>304</td>\n",
       "      <td>40.704633</td>\n",
       "      <td>-74.013617</td>\n",
       "      <td>Broadway &amp; Battery Pl</td>\n",
       "      <td>6/22/2016 13:16:19</td>\n",
       "      <td>6/22/2016 13:21:19</td>\n",
       "      <td>300</td>\n",
       "      <td>Rebalancing</td>\n",
       "    </tr>\n",
       "  </tbody>\n",
       "</table>\n",
       "</div>"
      ],
      "text/plain": [
       "         bikeid  birth year  end station id  end station latitude  \\\n",
       "1009289   15636      1976.0             153             40.752062   \n",
       "1009990   15636      1959.0            3236             40.758985   \n",
       "1010891   15636      1969.0             513             40.768254   \n",
       "1011481   15636      1945.0             470             40.743453   \n",
       "1012800   15636      1991.0             534             40.702551   \n",
       "1017376   15636      1984.0             304             40.704633   \n",
       "1038641   15636      1976.0             157             40.690893   \n",
       "115       15636         0.0            2000             40.702551   \n",
       "\n",
       "         end station longitude          end station name  gender  \\\n",
       "1009289             -73.981632           E 40 St & 5 Ave       1   \n",
       "1009990             -73.993800        W 42 St & Dyer Ave       1   \n",
       "1010891             -73.988639          W 56 St & 10 Ave       1   \n",
       "1011481             -74.000040           W 20 St & 8 Ave       1   \n",
       "1012800             -74.012723   Water - Whitehall Plaza       1   \n",
       "1017376             -74.013617     Broadway & Battery Pl       1   \n",
       "1038641             -73.996123   Henry St & Atlantic Ave       1   \n",
       "115                 -73.989402  Front St & Washington St       3   \n",
       "\n",
       "         start station id  start station latitude  start station longitude  \\\n",
       "1009289              3230               40.751284               -73.996924   \n",
       "1009990               153               40.752062               -73.981632   \n",
       "1010891              3236               40.758985               -73.993800   \n",
       "1011481               513               40.768254               -73.988639   \n",
       "1012800               470               40.743453               -74.000040   \n",
       "1017376               534               40.702551               -74.012723   \n",
       "1038641              2000               40.702551               -73.989402   \n",
       "115                   304               40.704633               -74.013617   \n",
       "\n",
       "               start station name           starttime            stoptime  \\\n",
       "1009289        Penn Station Valet  6/22/2016 07:40:55  6/22/2016 07:50:21   \n",
       "1009990           E 40 St & 5 Ave  6/22/2016 07:51:39  6/22/2016 08:03:35   \n",
       "1010891        W 42 St & Dyer Ave  6/22/2016 08:04:34  6/22/2016 08:09:39   \n",
       "1011481          W 56 St & 10 Ave  6/22/2016 08:11:43  6/22/2016 08:26:04   \n",
       "1012800           W 20 St & 8 Ave  6/22/2016 08:27:26  6/22/2016 08:46:20   \n",
       "1017376   Water - Whitehall Plaza  6/22/2016 09:16:53  6/22/2016 09:18:46   \n",
       "1038641  Front St & Washington St  6/22/2016 17:18:53  6/22/2016 17:27:45   \n",
       "115         Broadway & Battery Pl  6/22/2016 13:16:19  6/22/2016 13:21:19   \n",
       "\n",
       "         tripduration     usertype  \n",
       "1009289           566   Subscriber  \n",
       "1009990           716   Subscriber  \n",
       "1010891           304   Subscriber  \n",
       "1011481           861   Subscriber  \n",
       "1012800          1133   Subscriber  \n",
       "1017376           113   Subscriber  \n",
       "1038641           531   Subscriber  \n",
       "115               300  Rebalancing  "
      ]
     },
     "execution_count": 33,
     "metadata": {},
     "output_type": "execute_result"
    }
   ],
   "source": [
    "# It is not correctly picking up the first bike id we corrected, 15636.\n",
    "# All eight trips are present, including the eight rebalancing trip that was not accounted for when we began this exercise.\n",
    "penn_by_index[penn_by_index['bikeid'] == 15636]"
   ]
  },
  {
   "cell_type": "code",
   "execution_count": 34,
   "metadata": {
    "collapsed": false
   },
   "outputs": [
    {
     "data": {
      "text/html": [
       "<div>\n",
       "<table border=\"1\" class=\"dataframe\">\n",
       "  <thead>\n",
       "    <tr style=\"text-align: right;\">\n",
       "      <th></th>\n",
       "      <th>bikeid</th>\n",
       "      <th>birth year</th>\n",
       "      <th>end station id</th>\n",
       "      <th>end station latitude</th>\n",
       "      <th>end station longitude</th>\n",
       "      <th>end station name</th>\n",
       "      <th>gender</th>\n",
       "      <th>start station id</th>\n",
       "      <th>start station latitude</th>\n",
       "      <th>start station longitude</th>\n",
       "      <th>start station name</th>\n",
       "      <th>starttime</th>\n",
       "      <th>stoptime</th>\n",
       "      <th>tripduration</th>\n",
       "      <th>usertype</th>\n",
       "    </tr>\n",
       "  </thead>\n",
       "  <tbody>\n",
       "  </tbody>\n",
       "</table>\n",
       "</div>"
      ],
      "text/plain": [
       "Empty DataFrame\n",
       "Columns: [bikeid, birth year, end station id, end station latitude, end station longitude, end station name, gender, start station id, start station latitude, start station longitude, start station name, starttime, stoptime, tripduration, usertype]\n",
       "Index: []"
      ]
     },
     "execution_count": 34,
     "metadata": {},
     "output_type": "execute_result"
    }
   ],
   "source": [
    "# This one, however, is still a problem.\n",
    "penn_by_index[penn_by_index['bikeid'] == 17075]"
   ]
  },
  {
   "cell_type": "code",
   "execution_count": 37,
   "metadata": {
    "collapsed": false
   },
   "outputs": [
    {
     "data": {
      "text/html": [
       "<div>\n",
       "<table border=\"1\" class=\"dataframe\">\n",
       "  <thead>\n",
       "    <tr style=\"text-align: right;\">\n",
       "      <th></th>\n",
       "      <th>bikeid</th>\n",
       "      <th>birth year</th>\n",
       "      <th>end station id</th>\n",
       "      <th>end station latitude</th>\n",
       "      <th>end station longitude</th>\n",
       "      <th>end station name</th>\n",
       "      <th>gender</th>\n",
       "      <th>start station id</th>\n",
       "      <th>start station latitude</th>\n",
       "      <th>start station longitude</th>\n",
       "      <th>start station name</th>\n",
       "      <th>starttime</th>\n",
       "      <th>stoptime</th>\n",
       "      <th>tripduration</th>\n",
       "      <th>usertype</th>\n",
       "    </tr>\n",
       "  </thead>\n",
       "  <tbody>\n",
       "    <tr>\n",
       "      <th>1059518</th>\n",
       "      <td>17075</td>\n",
       "      <td>1967.0</td>\n",
       "      <td>3160</td>\n",
       "      <td>40.778968</td>\n",
       "      <td>-73.973747</td>\n",
       "      <td>Central Park West &amp; W 76 St</td>\n",
       "      <td>2</td>\n",
       "      <td>520</td>\n",
       "      <td>40.759923</td>\n",
       "      <td>-73.976485</td>\n",
       "      <td>W 52 St &amp; 5 Ave</td>\n",
       "      <td>6/22/2016 22:53:58</td>\n",
       "      <td>6/22/2016 23:07:22</td>\n",
       "      <td>803</td>\n",
       "      <td>Subscriber</td>\n",
       "    </tr>\n",
       "    <tr>\n",
       "      <th>278</th>\n",
       "      <td>17075</td>\n",
       "      <td>0.0</td>\n",
       "      <td>520</td>\n",
       "      <td>40.759923</td>\n",
       "      <td>-73.976485</td>\n",
       "      <td>W 52 St &amp; 5 Ave</td>\n",
       "      <td>3</td>\n",
       "      <td>514</td>\n",
       "      <td>40.760875</td>\n",
       "      <td>-74.002777</td>\n",
       "      <td>12 Ave &amp; W 40 St</td>\n",
       "      <td>6/22/2016 20:54:39</td>\n",
       "      <td>6/22/2016 21:08:39</td>\n",
       "      <td>840</td>\n",
       "      <td>Rebalancing</td>\n",
       "    </tr>\n",
       "    <tr>\n",
       "      <th>1048279</th>\n",
       "      <td>17075</td>\n",
       "      <td>1988.0</td>\n",
       "      <td>514</td>\n",
       "      <td>40.760875</td>\n",
       "      <td>-74.002777</td>\n",
       "      <td>12 Ave &amp; W 40 St</td>\n",
       "      <td>1</td>\n",
       "      <td>482</td>\n",
       "      <td>40.739355</td>\n",
       "      <td>-73.999318</td>\n",
       "      <td>W 15 St &amp; 7 Ave</td>\n",
       "      <td>6/22/2016 18:53:17</td>\n",
       "      <td>6/22/2016 19:09:21</td>\n",
       "      <td>963</td>\n",
       "      <td>Subscriber</td>\n",
       "    </tr>\n",
       "    <tr>\n",
       "      <th>1038668</th>\n",
       "      <td>17075</td>\n",
       "      <td>1969.0</td>\n",
       "      <td>482</td>\n",
       "      <td>40.739355</td>\n",
       "      <td>-73.999318</td>\n",
       "      <td>W 15 St &amp; 7 Ave</td>\n",
       "      <td>1</td>\n",
       "      <td>458</td>\n",
       "      <td>40.751396</td>\n",
       "      <td>-74.005226</td>\n",
       "      <td>11 Ave &amp; W 27 St</td>\n",
       "      <td>6/22/2016 17:19:08</td>\n",
       "      <td>6/22/2016 17:29:01</td>\n",
       "      <td>592</td>\n",
       "      <td>Subscriber</td>\n",
       "    </tr>\n",
       "    <tr>\n",
       "      <th>1037607</th>\n",
       "      <td>17075</td>\n",
       "      <td>1957.0</td>\n",
       "      <td>458</td>\n",
       "      <td>40.751396</td>\n",
       "      <td>-74.005226</td>\n",
       "      <td>11 Ave &amp; W 27 St</td>\n",
       "      <td>2</td>\n",
       "      <td>362</td>\n",
       "      <td>40.751726</td>\n",
       "      <td>-73.987535</td>\n",
       "      <td>Broadway &amp; W 37 St</td>\n",
       "      <td>6/22/2016 17:08:05</td>\n",
       "      <td>6/22/2016 17:18:47</td>\n",
       "      <td>642</td>\n",
       "      <td>Subscriber</td>\n",
       "    </tr>\n",
       "    <tr>\n",
       "      <th>1029774</th>\n",
       "      <td>17075</td>\n",
       "      <td>1987.0</td>\n",
       "      <td>362</td>\n",
       "      <td>40.751726</td>\n",
       "      <td>-73.987535</td>\n",
       "      <td>Broadway &amp; W 37 St</td>\n",
       "      <td>2</td>\n",
       "      <td>505</td>\n",
       "      <td>40.749013</td>\n",
       "      <td>-73.988484</td>\n",
       "      <td>6 Ave &amp; W 33 St</td>\n",
       "      <td>6/22/2016 14:25:45</td>\n",
       "      <td>6/22/2016 14:28:42</td>\n",
       "      <td>177</td>\n",
       "      <td>Subscriber</td>\n",
       "    </tr>\n",
       "    <tr>\n",
       "      <th>1028226</th>\n",
       "      <td>17075</td>\n",
       "      <td>1972.0</td>\n",
       "      <td>505</td>\n",
       "      <td>40.749013</td>\n",
       "      <td>-73.988484</td>\n",
       "      <td>6 Ave &amp; W 33 St</td>\n",
       "      <td>1</td>\n",
       "      <td>442</td>\n",
       "      <td>40.746647</td>\n",
       "      <td>-73.993915</td>\n",
       "      <td>W 27 St &amp; 7 Ave</td>\n",
       "      <td>6/22/2016 13:48:24</td>\n",
       "      <td>6/22/2016 13:52:21</td>\n",
       "      <td>237</td>\n",
       "      <td>Subscriber</td>\n",
       "    </tr>\n",
       "    <tr>\n",
       "      <th>1021616</th>\n",
       "      <td>17075</td>\n",
       "      <td>1970.0</td>\n",
       "      <td>442</td>\n",
       "      <td>40.746647</td>\n",
       "      <td>-73.993915</td>\n",
       "      <td>W 27 St &amp; 7 Ave</td>\n",
       "      <td>1</td>\n",
       "      <td>536</td>\n",
       "      <td>40.741444</td>\n",
       "      <td>-73.975361</td>\n",
       "      <td>1 Ave &amp; E 30 St</td>\n",
       "      <td>6/22/2016 10:48:23</td>\n",
       "      <td>6/22/2016 10:58:05</td>\n",
       "      <td>581</td>\n",
       "      <td>Subscriber</td>\n",
       "    </tr>\n",
       "    <tr>\n",
       "      <th>1020132</th>\n",
       "      <td>17075</td>\n",
       "      <td>1995.0</td>\n",
       "      <td>536</td>\n",
       "      <td>40.741444</td>\n",
       "      <td>-73.975361</td>\n",
       "      <td>1 Ave &amp; E 30 St</td>\n",
       "      <td>1</td>\n",
       "      <td>379</td>\n",
       "      <td>40.749156</td>\n",
       "      <td>-73.991600</td>\n",
       "      <td>W 31 St &amp; 7 Ave</td>\n",
       "      <td>6/22/2016 10:05:00</td>\n",
       "      <td>6/22/2016 10:14:17</td>\n",
       "      <td>557</td>\n",
       "      <td>Subscriber</td>\n",
       "    </tr>\n",
       "    <tr>\n",
       "      <th>1019417</th>\n",
       "      <td>17075</td>\n",
       "      <td>1964.0</td>\n",
       "      <td>379</td>\n",
       "      <td>40.749156</td>\n",
       "      <td>-73.991600</td>\n",
       "      <td>W 31 St &amp; 7 Ave</td>\n",
       "      <td>1</td>\n",
       "      <td>284</td>\n",
       "      <td>40.739017</td>\n",
       "      <td>-74.002638</td>\n",
       "      <td>Greenwich Ave &amp; 8 Ave</td>\n",
       "      <td>6/22/2016 09:49:24</td>\n",
       "      <td>6/22/2016 10:04:03</td>\n",
       "      <td>879</td>\n",
       "      <td>Subscriber</td>\n",
       "    </tr>\n",
       "  </tbody>\n",
       "</table>\n",
       "</div>"
      ],
      "text/plain": [
       "         bikeid  birth year  end station id  end station latitude  \\\n",
       "1059518   17075      1967.0            3160             40.778968   \n",
       "278       17075         0.0             520             40.759923   \n",
       "1048279   17075      1988.0             514             40.760875   \n",
       "1038668   17075      1969.0             482             40.739355   \n",
       "1037607   17075      1957.0             458             40.751396   \n",
       "1029774   17075      1987.0             362             40.751726   \n",
       "1028226   17075      1972.0             505             40.749013   \n",
       "1021616   17075      1970.0             442             40.746647   \n",
       "1020132   17075      1995.0             536             40.741444   \n",
       "1019417   17075      1964.0             379             40.749156   \n",
       "\n",
       "         end station longitude             end station name  gender  \\\n",
       "1059518             -73.973747  Central Park West & W 76 St       2   \n",
       "278                 -73.976485              W 52 St & 5 Ave       3   \n",
       "1048279             -74.002777             12 Ave & W 40 St       1   \n",
       "1038668             -73.999318              W 15 St & 7 Ave       1   \n",
       "1037607             -74.005226             11 Ave & W 27 St       2   \n",
       "1029774             -73.987535           Broadway & W 37 St       2   \n",
       "1028226             -73.988484              6 Ave & W 33 St       1   \n",
       "1021616             -73.993915              W 27 St & 7 Ave       1   \n",
       "1020132             -73.975361              1 Ave & E 30 St       1   \n",
       "1019417             -73.991600              W 31 St & 7 Ave       1   \n",
       "\n",
       "         start station id  start station latitude  start station longitude  \\\n",
       "1059518               520               40.759923               -73.976485   \n",
       "278                   514               40.760875               -74.002777   \n",
       "1048279               482               40.739355               -73.999318   \n",
       "1038668               458               40.751396               -74.005226   \n",
       "1037607               362               40.751726               -73.987535   \n",
       "1029774               505               40.749013               -73.988484   \n",
       "1028226               442               40.746647               -73.993915   \n",
       "1021616               536               40.741444               -73.975361   \n",
       "1020132               379               40.749156               -73.991600   \n",
       "1019417               284               40.739017               -74.002638   \n",
       "\n",
       "            start station name           starttime            stoptime  \\\n",
       "1059518        W 52 St & 5 Ave  6/22/2016 22:53:58  6/22/2016 23:07:22   \n",
       "278           12 Ave & W 40 St  6/22/2016 20:54:39  6/22/2016 21:08:39   \n",
       "1048279        W 15 St & 7 Ave  6/22/2016 18:53:17  6/22/2016 19:09:21   \n",
       "1038668       11 Ave & W 27 St  6/22/2016 17:19:08  6/22/2016 17:29:01   \n",
       "1037607     Broadway & W 37 St  6/22/2016 17:08:05  6/22/2016 17:18:47   \n",
       "1029774        6 Ave & W 33 St  6/22/2016 14:25:45  6/22/2016 14:28:42   \n",
       "1028226        W 27 St & 7 Ave  6/22/2016 13:48:24  6/22/2016 13:52:21   \n",
       "1021616        1 Ave & E 30 St  6/22/2016 10:48:23  6/22/2016 10:58:05   \n",
       "1020132        W 31 St & 7 Ave  6/22/2016 10:05:00  6/22/2016 10:14:17   \n",
       "1019417  Greenwich Ave & 8 Ave  6/22/2016 09:49:24  6/22/2016 10:04:03   \n",
       "\n",
       "         tripduration     usertype  \n",
       "1059518           803   Subscriber  \n",
       "278               840  Rebalancing  \n",
       "1048279           963   Subscriber  \n",
       "1038668           592   Subscriber  \n",
       "1037607           642   Subscriber  \n",
       "1029774           177   Subscriber  \n",
       "1028226           237   Subscriber  \n",
       "1021616           581   Subscriber  \n",
       "1020132           557   Subscriber  \n",
       "1019417           879   Subscriber  "
      ]
     },
     "execution_count": 37,
     "metadata": {},
     "output_type": "execute_result"
    }
   ],
   "source": [
    "june_22[june_22['bikeid'] == 17075].sort_values(by='starttime', ascending=False)"
   ]
  },
  {
   "cell_type": "markdown",
   "metadata": {},
   "source": [
    "END TEMP"
   ]
  },
  {
   "cell_type": "markdown",
   "metadata": {},
   "source": [
    "## Inbound bike trips\n",
    "\n",
    "Same process, just with slightly different inputs..."
   ]
  },
  {
   "cell_type": "code",
   "execution_count": 10,
   "metadata": {
    "collapsed": false
   },
   "outputs": [
    {
     "name": "stderr",
     "output_type": "stream",
     "text": [
      "100%|████████████████████████████████████| 6493/6493 [00:05<00:00, 1089.18it/s]\n"
     ]
    }
   ],
   "source": [
    "inbound_station_bikesets = {station_id: [] for station_id in stations.index}\n",
    "\n",
    "for bike_id in tqdm(np.unique(june_22['bikeid'])):\n",
    "    first_trip_station = june_22[june_22['bikeid'] == bike_id].sort_values(by='starttime', ascending=False).iloc[0]['start station id']\n",
    "    inbound_station_bikesets[first_trip_station].append(bike_id)"
   ]
  },
  {
   "cell_type": "code",
   "execution_count": 11,
   "metadata": {
    "collapsed": false
   },
   "outputs": [
    {
     "name": "stderr",
     "output_type": "stream",
     "text": [
      "100%|███████████████████████████████████████| 474/474 [00:02<00:00, 162.49it/s]\n"
     ]
    }
   ],
   "source": [
    "import functools\n",
    "inbound_bike_trip_index = dict()\n",
    "\n",
    "for station_id, bike_id_list in tqdm(inbound_station_bikesets.items()):\n",
    "    trip_set = []\n",
    "    for bike_id in bike_id_list:\n",
    "        trip_set.append(list(june_22[june_22['bikeid'] == bike_id].index.values))\n",
    "    if len(trip_set) > 0:\n",
    "        trip_set = functools.reduce(lambda x,y: x+y, trip_set)\n",
    "    inbound_bike_trip_index[station_id] = trip_set"
   ]
  },
  {
   "cell_type": "markdown",
   "metadata": {},
   "source": [
    "And there you have it."
   ]
  },
  {
   "cell_type": "markdown",
   "metadata": {},
   "source": [
    "## Trips from station"
   ]
  },
  {
   "cell_type": "code",
   "execution_count": 12,
   "metadata": {
    "collapsed": false
   },
   "outputs": [
    {
     "data": {
      "text/html": [
       "<div>\n",
       "<table border=\"1\" class=\"dataframe\">\n",
       "  <thead>\n",
       "    <tr style=\"text-align: right;\">\n",
       "      <th></th>\n",
       "      <th>bikeid</th>\n",
       "      <th>birth year</th>\n",
       "      <th>end station id</th>\n",
       "      <th>end station latitude</th>\n",
       "      <th>end station longitude</th>\n",
       "      <th>end station name</th>\n",
       "      <th>gender</th>\n",
       "      <th>start station id</th>\n",
       "      <th>start station latitude</th>\n",
       "      <th>start station longitude</th>\n",
       "      <th>start station name</th>\n",
       "      <th>starttime</th>\n",
       "      <th>stoptime</th>\n",
       "      <th>tripduration</th>\n",
       "      <th>usertype</th>\n",
       "    </tr>\n",
       "  </thead>\n",
       "  <tbody>\n",
       "    <tr>\n",
       "      <th>1004842</th>\n",
       "      <td>25585</td>\n",
       "      <td>1978.0</td>\n",
       "      <td>450</td>\n",
       "      <td>40.762272</td>\n",
       "      <td>-73.987882</td>\n",
       "      <td>W 49 St &amp; 8 Ave</td>\n",
       "      <td>1</td>\n",
       "      <td>334</td>\n",
       "      <td>40.742388</td>\n",
       "      <td>-73.997262</td>\n",
       "      <td>W 20 St &amp; 7 Ave</td>\n",
       "      <td>6/22/2016 00:00:11</td>\n",
       "      <td>6/22/2016 00:13:17</td>\n",
       "      <td>785</td>\n",
       "      <td>Subscriber</td>\n",
       "    </tr>\n",
       "  </tbody>\n",
       "</table>\n",
       "</div>"
      ],
      "text/plain": [
       "         bikeid  birth year  end station id  end station latitude  \\\n",
       "1004842   25585      1978.0             450             40.762272   \n",
       "\n",
       "         end station longitude end station name  gender  start station id  \\\n",
       "1004842             -73.987882  W 49 St & 8 Ave       1               334   \n",
       "\n",
       "         start station latitude  start station longitude start station name  \\\n",
       "1004842               40.742388               -73.997262    W 20 St & 7 Ave   \n",
       "\n",
       "                  starttime            stoptime  tripduration    usertype  \n",
       "1004842  6/22/2016 00:00:11  6/22/2016 00:13:17           785  Subscriber  "
      ]
     },
     "execution_count": 12,
     "metadata": {},
     "output_type": "execute_result"
    }
   ],
   "source": [
    "june_22.head(1)"
   ]
  },
  {
   "cell_type": "code",
   "execution_count": 13,
   "metadata": {
    "collapsed": false
   },
   "outputs": [
    {
     "name": "stderr",
     "output_type": "stream",
     "text": [
      "100%|███████████████████████████████████████| 465/465 [00:00<00:00, 999.94it/s]\n"
     ]
    }
   ],
   "source": [
    "outbound_trip_index = dict()\n",
    "\n",
    "for start_station_id in tqdm(np.unique(june_22['start station id'])):\n",
    "    trip_ids = list(june_22[june_22['start station id'] == start_station_id].index.values)\n",
    "    outbound_trip_index[start_station_id] = list(june_22[june_22['start station id'] == start_station_id].index.values)"
   ]
  },
  {
   "cell_type": "markdown",
   "metadata": {},
   "source": [
    "## Trips to station"
   ]
  },
  {
   "cell_type": "code",
   "execution_count": 14,
   "metadata": {
    "collapsed": false
   },
   "outputs": [
    {
     "name": "stderr",
     "output_type": "stream",
     "text": [
      "100%|███████████████████████████████████████| 470/470 [00:00<00:00, 993.60it/s]\n"
     ]
    }
   ],
   "source": [
    "inbound_trip_index = dict()\n",
    "\n",
    "for end_station_id in tqdm(np.unique(june_22['end station id'])):\n",
    "    trip_ids = list(june_22[june_22['end station id'] == end_station_id].index.values)\n",
    "    inbound_trip_index[end_station_id] = list(june_22[june_22['end station id'] == end_station_id].index.values)"
   ]
  },
  {
   "cell_type": "markdown",
   "metadata": {},
   "source": [
    "## Loading it into the database\n",
    "\n",
    "Get that crap into the database!"
   ]
  },
  {
   "cell_type": "code",
   "execution_count": 15,
   "metadata": {
    "collapsed": true
   },
   "outputs": [],
   "source": [
    "from pymongo import MongoClient"
   ]
  },
  {
   "cell_type": "code",
   "execution_count": 16,
   "metadata": {
    "collapsed": true
   },
   "outputs": [],
   "source": [
    "client = MongoClient(\"mongodb://localhost:27017\")"
   ]
  },
  {
   "cell_type": "markdown",
   "metadata": {},
   "source": [
    "...right, once again there is weirdness with numpy stuff needing to be cast into Python-native int."
   ]
  },
  {
   "cell_type": "code",
   "execution_count": 17,
   "metadata": {
    "collapsed": false
   },
   "outputs": [
    {
     "data": {
      "text/html": [
       "<div>\n",
       "<table border=\"1\" class=\"dataframe\">\n",
       "  <thead>\n",
       "    <tr style=\"text-align: right;\">\n",
       "      <th></th>\n",
       "      <th>latitude</th>\n",
       "      <th>longitude</th>\n",
       "      <th>station name</th>\n",
       "      <th>incoming trips</th>\n",
       "      <th>outgoing trips</th>\n",
       "      <th>all trips</th>\n",
       "      <th>kind</th>\n",
       "      <th>bikes outbound</th>\n",
       "      <th>outbound trips</th>\n",
       "      <th>bikes inbound</th>\n",
       "      <th>inbound trips</th>\n",
       "      <th>delta bikes</th>\n",
       "      <th>delta trips</th>\n",
       "    </tr>\n",
       "    <tr>\n",
       "      <th>station id</th>\n",
       "      <th></th>\n",
       "      <th></th>\n",
       "      <th></th>\n",
       "      <th></th>\n",
       "      <th></th>\n",
       "      <th></th>\n",
       "      <th></th>\n",
       "      <th></th>\n",
       "      <th></th>\n",
       "      <th></th>\n",
       "      <th></th>\n",
       "      <th></th>\n",
       "      <th></th>\n",
       "    </tr>\n",
       "  </thead>\n",
       "  <tbody>\n",
       "    <tr>\n",
       "      <th>3182</th>\n",
       "      <td>40.686931</td>\n",
       "      <td>-74.016966</td>\n",
       "      <td>Yankee Ferry Terminal</td>\n",
       "      <td>1</td>\n",
       "      <td>1</td>\n",
       "      <td>2</td>\n",
       "      <td>active</td>\n",
       "      <td>1</td>\n",
       "      <td>1</td>\n",
       "      <td>1</td>\n",
       "      <td>1</td>\n",
       "      <td>0</td>\n",
       "      <td>0</td>\n",
       "    </tr>\n",
       "  </tbody>\n",
       "</table>\n",
       "</div>"
      ],
      "text/plain": [
       "             latitude  longitude           station name  incoming trips  \\\n",
       "station id                                                                \n",
       "3182        40.686931 -74.016966  Yankee Ferry Terminal               1   \n",
       "\n",
       "            outgoing trips  all trips    kind  bikes outbound  outbound trips  \\\n",
       "station id                                                                      \n",
       "3182                     1          2  active               1               1   \n",
       "\n",
       "            bikes inbound  inbound trips  delta bikes  delta trips  \n",
       "station id                                                          \n",
       "3182                    1              1            0            0  "
      ]
     },
     "execution_count": 17,
     "metadata": {},
     "output_type": "execute_result"
    }
   ],
   "source": [
    "stations.sample(1)"
   ]
  },
  {
   "cell_type": "markdown",
   "metadata": {},
   "source": [
    "**NOTE**: The following code block generates a new `station-indices` collection document in the database and inserts it. It does *not* replace any pre-existing `station-indices` collection document(s)!\n",
    "\n",
    "If you run this line multiple times, and do not take care to make sure that you delete any pre-existing documents in the collection first, you will generate multiple copies of the same indices.\n",
    "\n",
    "To avoid this, if this collection already exists, delete the collection *before* running this cell."
   ]
  },
  {
   "cell_type": "code",
   "execution_count": 20,
   "metadata": {
    "collapsed": false,
    "scrolled": true
   },
   "outputs": [
    {
     "name": "stderr",
     "output_type": "stream",
     "text": [
      "  0%|                                                  | 0/474 [00:00<?, ?it/s]C:\\Users\\Alex\\Anaconda3\\envs\\citibike\\lib\\site-packages\\ipykernel\\__main__.py:10: DeprecationWarning: insert is deprecated. Use insert_one or insert_many instead.\n",
      "100%|███████████████████████████████████████| 474/474 [00:00<00:00, 854.01it/s]\n"
     ]
    }
   ],
   "source": [
    "# client['citibike']['station-indices'].insert_one({str(key): inbound_bike_trip_index[key] for key in inbound_bike_trip_index.keys()})\n",
    "# for key in inbound_bike_trip_index.keys():\n",
    "for station_id in tqdm(stations.index):\n",
    "    client['citibike']['station-indices'].insert({\n",
    "            'station id': str(station_id),\n",
    "            'tripsets': {\n",
    "                'inbound bike trip indices': [int(n) for n in inbound_bike_trip_index[station_id]]  if station_id in inbound_bike_trip_index else [],\n",
    "                'outbound bike trip indices': [int(n) for n in outbound_bike_trip_index[station_id]] if station_id in outbound_bike_trip_index else [],\n",
    "                'incoming trip indices': [int(n) for n in inbound_trip_index[station_id]] if station_id in inbound_trip_index else [],\n",
    "                'outgoing trip indices': [int(n) for n in outbound_trip_index[station_id]]  if station_id in outbound_trip_index else []\n",
    "            }\n",
    "        })"
   ]
  },
  {
   "cell_type": "markdown",
   "metadata": {},
   "source": [
    "And...done!"
   ]
  }
 ],
 "metadata": {
  "kernelspec": {
   "display_name": "Python 3",
   "language": "python",
   "name": "python3"
  },
  "language_info": {
   "codemirror_mode": {
    "name": "ipython",
    "version": 3
   },
   "file_extension": ".py",
   "mimetype": "text/x-python",
   "name": "python",
   "nbconvert_exporter": "python",
   "pygments_lexer": "ipython3",
   "version": "3.5.2"
  }
 },
 "nbformat": 4,
 "nbformat_minor": 0
}
