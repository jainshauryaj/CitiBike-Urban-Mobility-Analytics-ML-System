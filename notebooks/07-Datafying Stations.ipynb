{
 "cells": [
  {
   "cell_type": "markdown",
   "metadata": {},
   "source": [
    "# Baking Stations\n",
    "\n",
    "At the interface layer I'd like to be able to bring up the actual counts of the datasets of interest. This I can place in a flat file&mdash;all the database stuff isn't necessary."
   ]
  },
  {
   "cell_type": "code",
   "execution_count": 1,
   "metadata": {
    "collapsed": false
   },
   "outputs": [],
   "source": [
    "import pandas as pd\n",
    "import numpy as np\n",
    "import matplotlib.pyplot as plt\n",
    "%matplotlib inline\n",
    "import seaborn as sns\n",
    "import requests\n",
    "import io\n",
    "import zipfile\n",
    "from tqdm import tqdm"
   ]
  },
  {
   "cell_type": "code",
   "execution_count": 2,
   "metadata": {
    "collapsed": false
   },
   "outputs": [],
   "source": [
    "r = requests.get('https://s3.amazonaws.com/tripdata/201606-citibike-tripdata.zip')\n",
    "with zipfile.ZipFile(io.BytesIO(r.content)) as ar:\n",
    "    trip_data = pd.read_csv(ar.open('201606-citibike-tripdata.csv'))"
   ]
  },
  {
   "cell_type": "code",
   "execution_count": 3,
   "metadata": {
    "collapsed": true
   },
   "outputs": [],
   "source": [
    "july_22 = pd.read_csv(\"../data/final/all_june_22_citibike_trips.csv\", index_col=0)"
   ]
  },
  {
   "cell_type": "code",
   "execution_count": 4,
   "metadata": {
    "collapsed": false
   },
   "outputs": [],
   "source": [
    "all_station_ids = set(trip_data['start station id'].values).union(set(trip_data['end station id'].values))"
   ]
  },
  {
   "cell_type": "code",
   "execution_count": 5,
   "metadata": {
    "collapsed": false
   },
   "outputs": [
    {
     "data": {
      "text/html": [
       "<div>\n",
       "<table border=\"1\" class=\"dataframe\">\n",
       "  <thead>\n",
       "    <tr style=\"text-align: right;\">\n",
       "      <th></th>\n",
       "      <th>tripduration</th>\n",
       "      <th>starttime</th>\n",
       "      <th>stoptime</th>\n",
       "      <th>start station id</th>\n",
       "      <th>start station name</th>\n",
       "      <th>start station latitude</th>\n",
       "      <th>start station longitude</th>\n",
       "      <th>end station id</th>\n",
       "      <th>end station name</th>\n",
       "      <th>end station latitude</th>\n",
       "      <th>end station longitude</th>\n",
       "      <th>bikeid</th>\n",
       "      <th>usertype</th>\n",
       "      <th>birth year</th>\n",
       "      <th>gender</th>\n",
       "    </tr>\n",
       "  </thead>\n",
       "  <tbody>\n",
       "    <tr>\n",
       "      <th>0</th>\n",
       "      <td>1470</td>\n",
       "      <td>6/1/2016 00:00:18</td>\n",
       "      <td>6/1/2016 00:24:48</td>\n",
       "      <td>380</td>\n",
       "      <td>W 4 St &amp; 7 Ave S</td>\n",
       "      <td>40.734011</td>\n",
       "      <td>-74.002939</td>\n",
       "      <td>3236</td>\n",
       "      <td>W 42 St &amp; Dyer Ave</td>\n",
       "      <td>40.758985</td>\n",
       "      <td>-73.9938</td>\n",
       "      <td>19859</td>\n",
       "      <td>Subscriber</td>\n",
       "      <td>1972.0</td>\n",
       "      <td>1</td>\n",
       "    </tr>\n",
       "  </tbody>\n",
       "</table>\n",
       "</div>"
      ],
      "text/plain": [
       "   tripduration          starttime           stoptime  start station id  \\\n",
       "0          1470  6/1/2016 00:00:18  6/1/2016 00:24:48               380   \n",
       "\n",
       "  start station name  start station latitude  start station longitude  \\\n",
       "0   W 4 St & 7 Ave S               40.734011               -74.002939   \n",
       "\n",
       "   end station id    end station name  end station latitude  \\\n",
       "0            3236  W 42 St & Dyer Ave             40.758985   \n",
       "\n",
       "   end station longitude  bikeid    usertype  birth year  gender  \n",
       "0               -73.9938   19859  Subscriber      1972.0       1  "
      ]
     },
     "execution_count": 5,
     "metadata": {},
     "output_type": "execute_result"
    }
   ],
   "source": [
    "trip_data.head(1)"
   ]
  },
  {
   "cell_type": "code",
   "execution_count": 6,
   "metadata": {
    "collapsed": false
   },
   "outputs": [
    {
     "name": "stderr",
     "output_type": "stream",
     "text": [
      "100%|████████████████████████████████████████| 489/489 [00:05<00:00, 94.56it/s]\n"
     ]
    }
   ],
   "source": [
    "subframes = []\n",
    "start_counts = []\n",
    "end_counts = []\n",
    "\n",
    "for station_id in tqdm(all_station_ids):\n",
    "    started_here = trip_data[trip_data['start station id'] == station_id]\n",
    "    ended_here = trip_data[trip_data['end station id'] == station_id]\n",
    "    start_counts.append(len(july_22[july_22['start station id'] == station_id]))\n",
    "    end_counts.append(len(july_22[july_22['end station id'] == station_id]))\n",
    "    if len(started_here) > 0:\n",
    "        s = started_here.iloc[0]\n",
    "        subframes.append({'latitude': s['start station latitude'],\n",
    "                          'longitude': s['start station longitude'],\n",
    "                          'station name': s['start station name'],\n",
    "                          'station id': s['start station id']})\n",
    "    elif len(ended_here) > 0:\n",
    "        s  = ended_here.iloc[0]\n",
    "        subframes.append({'latitude': s['end station latitude'],\n",
    "                          'longitude': s['end station longitude'],\n",
    "                          'station name': s['end station name'],\n",
    "                          'station id': s['end station id']})\n",
    "    else:\n",
    "        print(\"ERRROR\")\n",
    "        \n",
    "stations = pd.DataFrame(subframes).set_index('station id', drop=True)\n",
    "stations['incoming trips'] = start_counts\n",
    "stations['outgoing trips'] = end_counts\n",
    "stations['all trips'] = np.array(start_counts) + np.array(end_counts)\n",
    "stations.index.name = 'station id'\n",
    "del subframes"
   ]
  },
  {
   "cell_type": "code",
   "execution_count": 7,
   "metadata": {
    "collapsed": false
   },
   "outputs": [
    {
     "data": {
      "text/html": [
       "<div>\n",
       "<table border=\"1\" class=\"dataframe\">\n",
       "  <thead>\n",
       "    <tr style=\"text-align: right;\">\n",
       "      <th></th>\n",
       "      <th>latitude</th>\n",
       "      <th>longitude</th>\n",
       "      <th>station name</th>\n",
       "      <th>incoming trips</th>\n",
       "      <th>outgoing trips</th>\n",
       "      <th>all trips</th>\n",
       "    </tr>\n",
       "    <tr>\n",
       "      <th>station id</th>\n",
       "      <th></th>\n",
       "      <th></th>\n",
       "      <th></th>\n",
       "      <th></th>\n",
       "      <th></th>\n",
       "      <th></th>\n",
       "    </tr>\n",
       "  </thead>\n",
       "  <tbody>\n",
       "    <tr>\n",
       "      <th>72</th>\n",
       "      <td>40.767272</td>\n",
       "      <td>-73.993929</td>\n",
       "      <td>W 52 St &amp; 11 Ave</td>\n",
       "      <td>133</td>\n",
       "      <td>147</td>\n",
       "      <td>280</td>\n",
       "    </tr>\n",
       "    <tr>\n",
       "      <th>79</th>\n",
       "      <td>40.719116</td>\n",
       "      <td>-74.006667</td>\n",
       "      <td>Franklin St &amp; W Broadway</td>\n",
       "      <td>113</td>\n",
       "      <td>114</td>\n",
       "      <td>227</td>\n",
       "    </tr>\n",
       "    <tr>\n",
       "      <th>82</th>\n",
       "      <td>40.711174</td>\n",
       "      <td>-74.000165</td>\n",
       "      <td>St James Pl &amp; Pearl St</td>\n",
       "      <td>53</td>\n",
       "      <td>46</td>\n",
       "      <td>99</td>\n",
       "    </tr>\n",
       "    <tr>\n",
       "      <th>83</th>\n",
       "      <td>40.683826</td>\n",
       "      <td>-73.976323</td>\n",
       "      <td>Atlantic Ave &amp; Fort Greene Pl</td>\n",
       "      <td>41</td>\n",
       "      <td>51</td>\n",
       "      <td>92</td>\n",
       "    </tr>\n",
       "    <tr>\n",
       "      <th>116</th>\n",
       "      <td>40.741776</td>\n",
       "      <td>-74.001497</td>\n",
       "      <td>W 17 St &amp; 8 Ave</td>\n",
       "      <td>265</td>\n",
       "      <td>267</td>\n",
       "      <td>532</td>\n",
       "    </tr>\n",
       "  </tbody>\n",
       "</table>\n",
       "</div>"
      ],
      "text/plain": [
       "             latitude  longitude                   station name  \\\n",
       "station id                                                        \n",
       "72          40.767272 -73.993929               W 52 St & 11 Ave   \n",
       "79          40.719116 -74.006667       Franklin St & W Broadway   \n",
       "82          40.711174 -74.000165         St James Pl & Pearl St   \n",
       "83          40.683826 -73.976323  Atlantic Ave & Fort Greene Pl   \n",
       "116         40.741776 -74.001497                W 17 St & 8 Ave   \n",
       "\n",
       "            incoming trips  outgoing trips  all trips  \n",
       "station id                                             \n",
       "72                     133             147        280  \n",
       "79                     113             114        227  \n",
       "82                      53              46         99  \n",
       "83                      41              51         92  \n",
       "116                    265             267        532  "
      ]
     },
     "execution_count": 7,
     "metadata": {},
     "output_type": "execute_result"
    }
   ],
   "source": [
    "stations.head(5)"
   ]
  },
  {
   "cell_type": "code",
   "execution_count": 8,
   "metadata": {
    "collapsed": false
   },
   "outputs": [],
   "source": [
    "# stations = pd.read_csv(\"../data/final/july_22_station_metadata.csv\", index_col=0)"
   ]
  },
  {
   "cell_type": "code",
   "execution_count": 9,
   "metadata": {
    "collapsed": false
   },
   "outputs": [],
   "source": [
    "# drop bad stations\n",
    "stations = stations.drop([3257, 3240, 3213, 3202, 3196, 3192, 3191, 3186, 3184, 3183, 3252])"
   ]
  },
  {
   "cell_type": "code",
   "execution_count": 10,
   "metadata": {
    "collapsed": false
   },
   "outputs": [],
   "source": [
    "stations = stations.drop([255])  # this is depot that is way out of the range of the viz."
   ]
  },
  {
   "cell_type": "code",
   "execution_count": 11,
   "metadata": {
    "collapsed": false
   },
   "outputs": [],
   "source": [
    "# code in a column for station kind: active, inactive (when it's in maintainence), depot (when it's a bike depot).\n",
    "stations['kind'] = 'active'\n",
    "\n",
    "def depot_or_not(srs):\n",
    "    if \"Depot\" in srs['station name']:\n",
    "        return \"depot\"\n",
    "    elif srs['all trips'] == 0:\n",
    "        return \"inactive\"\n",
    "    else:\n",
    "        return \"active\"\n",
    "    \n",
    "stations['kind'] = stations.apply(depot_or_not, axis='columns')"
   ]
  },
  {
   "cell_type": "code",
   "execution_count": 12,
   "metadata": {
    "collapsed": false
   },
   "outputs": [
    {
     "data": {
      "text/html": [
       "<div>\n",
       "<table border=\"1\" class=\"dataframe\">\n",
       "  <thead>\n",
       "    <tr style=\"text-align: right;\">\n",
       "      <th></th>\n",
       "      <th>latitude</th>\n",
       "      <th>longitude</th>\n",
       "      <th>station name</th>\n",
       "      <th>incoming trips</th>\n",
       "      <th>outgoing trips</th>\n",
       "      <th>all trips</th>\n",
       "      <th>kind</th>\n",
       "    </tr>\n",
       "    <tr>\n",
       "      <th>station id</th>\n",
       "      <th></th>\n",
       "      <th></th>\n",
       "      <th></th>\n",
       "      <th></th>\n",
       "      <th></th>\n",
       "      <th></th>\n",
       "      <th></th>\n",
       "    </tr>\n",
       "  </thead>\n",
       "  <tbody>\n",
       "    <tr>\n",
       "      <th>3017</th>\n",
       "      <td>40.751483</td>\n",
       "      <td>-73.996764</td>\n",
       "      <td>NYCBS Depot - FAR</td>\n",
       "      <td>0</td>\n",
       "      <td>2</td>\n",
       "      <td>2</td>\n",
       "      <td>depot</td>\n",
       "    </tr>\n",
       "    <tr>\n",
       "      <th>3219</th>\n",
       "      <td>40.729193</td>\n",
       "      <td>-73.976655</td>\n",
       "      <td>NYCBS Depot - STY</td>\n",
       "      <td>0</td>\n",
       "      <td>6</td>\n",
       "      <td>6</td>\n",
       "      <td>depot</td>\n",
       "    </tr>\n",
       "    <tr>\n",
       "      <th>3250</th>\n",
       "      <td>40.716910</td>\n",
       "      <td>-73.983838</td>\n",
       "      <td>NYCBS Depot - PIT</td>\n",
       "      <td>0</td>\n",
       "      <td>0</td>\n",
       "      <td>0</td>\n",
       "      <td>depot</td>\n",
       "    </tr>\n",
       "  </tbody>\n",
       "</table>\n",
       "</div>"
      ],
      "text/plain": [
       "             latitude  longitude       station name  incoming trips  \\\n",
       "station id                                                            \n",
       "3017        40.751483 -73.996764  NYCBS Depot - FAR               0   \n",
       "3219        40.729193 -73.976655  NYCBS Depot - STY               0   \n",
       "3250        40.716910 -73.983838  NYCBS Depot - PIT               0   \n",
       "\n",
       "            outgoing trips  all trips   kind  \n",
       "station id                                    \n",
       "3017                     2          2  depot  \n",
       "3219                     6          6  depot  \n",
       "3250                     0          0  depot  "
      ]
     },
     "execution_count": 12,
     "metadata": {},
     "output_type": "execute_result"
    }
   ],
   "source": [
    "stations[stations['kind'] == 'depot']  # actually depots only have outbound trips.\n",
    "# Since they pollute the view we can actually just remove them."
   ]
  },
  {
   "cell_type": "code",
   "execution_count": 13,
   "metadata": {
    "collapsed": true
   },
   "outputs": [],
   "source": [
    "stations = stations.drop([3017, 3219, 3250])"
   ]
  },
  {
   "cell_type": "code",
   "execution_count": 14,
   "metadata": {
    "collapsed": false
   },
   "outputs": [
    {
     "data": {
      "text/html": [
       "<div>\n",
       "<table border=\"1\" class=\"dataframe\">\n",
       "  <thead>\n",
       "    <tr style=\"text-align: right;\">\n",
       "      <th></th>\n",
       "      <th>latitude</th>\n",
       "      <th>longitude</th>\n",
       "      <th>station name</th>\n",
       "      <th>incoming trips</th>\n",
       "      <th>outgoing trips</th>\n",
       "      <th>all trips</th>\n",
       "      <th>kind</th>\n",
       "    </tr>\n",
       "    <tr>\n",
       "      <th>station id</th>\n",
       "      <th></th>\n",
       "      <th></th>\n",
       "      <th></th>\n",
       "      <th></th>\n",
       "      <th></th>\n",
       "      <th></th>\n",
       "      <th></th>\n",
       "    </tr>\n",
       "  </thead>\n",
       "  <tbody>\n",
       "    <tr>\n",
       "      <th>233</th>\n",
       "      <td>40.694757</td>\n",
       "      <td>-73.990527</td>\n",
       "      <td>Cadman Plaza W &amp; Pierrepont St</td>\n",
       "      <td>0</td>\n",
       "      <td>0</td>\n",
       "      <td>0</td>\n",
       "      <td>inactive</td>\n",
       "    </tr>\n",
       "    <tr>\n",
       "      <th>291</th>\n",
       "      <td>40.713126</td>\n",
       "      <td>-73.984844</td>\n",
       "      <td>Madison St &amp; Montgomery St</td>\n",
       "      <td>0</td>\n",
       "      <td>0</td>\n",
       "      <td>0</td>\n",
       "      <td>inactive</td>\n",
       "    </tr>\n",
       "    <tr>\n",
       "      <th>503</th>\n",
       "      <td>40.738274</td>\n",
       "      <td>-73.987520</td>\n",
       "      <td>E 20 St &amp; Park Ave</td>\n",
       "      <td>0</td>\n",
       "      <td>0</td>\n",
       "      <td>0</td>\n",
       "      <td>inactive</td>\n",
       "    </tr>\n",
       "    <tr>\n",
       "      <th>3085</th>\n",
       "      <td>40.714690</td>\n",
       "      <td>-73.957390</td>\n",
       "      <td>Roebling St &amp; N 4 St</td>\n",
       "      <td>0</td>\n",
       "      <td>0</td>\n",
       "      <td>0</td>\n",
       "      <td>inactive</td>\n",
       "    </tr>\n",
       "    <tr>\n",
       "      <th>3136</th>\n",
       "      <td>40.766505</td>\n",
       "      <td>-73.971476</td>\n",
       "      <td>5 Ave &amp; E 63 St</td>\n",
       "      <td>0</td>\n",
       "      <td>0</td>\n",
       "      <td>0</td>\n",
       "      <td>inactive</td>\n",
       "    </tr>\n",
       "    <tr>\n",
       "      <th>3169</th>\n",
       "      <td>40.787209</td>\n",
       "      <td>-73.981281</td>\n",
       "      <td>Riverside Dr &amp; W 82 St</td>\n",
       "      <td>0</td>\n",
       "      <td>0</td>\n",
       "      <td>0</td>\n",
       "      <td>inactive</td>\n",
       "    </tr>\n",
       "    <tr>\n",
       "      <th>3259</th>\n",
       "      <td>40.749370</td>\n",
       "      <td>-73.999234</td>\n",
       "      <td>9 Ave &amp; W 28 St</td>\n",
       "      <td>0</td>\n",
       "      <td>0</td>\n",
       "      <td>0</td>\n",
       "      <td>inactive</td>\n",
       "    </tr>\n",
       "    <tr>\n",
       "      <th>3260</th>\n",
       "      <td>40.727064</td>\n",
       "      <td>-73.996621</td>\n",
       "      <td>Mercer St &amp; Bleecker St</td>\n",
       "      <td>0</td>\n",
       "      <td>0</td>\n",
       "      <td>0</td>\n",
       "      <td>inactive</td>\n",
       "    </tr>\n",
       "  </tbody>\n",
       "</table>\n",
       "</div>"
      ],
      "text/plain": [
       "             latitude  longitude                    station name  \\\n",
       "station id                                                         \n",
       "233         40.694757 -73.990527  Cadman Plaza W & Pierrepont St   \n",
       "291         40.713126 -73.984844      Madison St & Montgomery St   \n",
       "503         40.738274 -73.987520              E 20 St & Park Ave   \n",
       "3085        40.714690 -73.957390            Roebling St & N 4 St   \n",
       "3136        40.766505 -73.971476                 5 Ave & E 63 St   \n",
       "3169        40.787209 -73.981281          Riverside Dr & W 82 St   \n",
       "3259        40.749370 -73.999234                 9 Ave & W 28 St   \n",
       "3260        40.727064 -73.996621         Mercer St & Bleecker St   \n",
       "\n",
       "            incoming trips  outgoing trips  all trips      kind  \n",
       "station id                                                       \n",
       "233                      0               0          0  inactive  \n",
       "291                      0               0          0  inactive  \n",
       "503                      0               0          0  inactive  \n",
       "3085                     0               0          0  inactive  \n",
       "3136                     0               0          0  inactive  \n",
       "3169                     0               0          0  inactive  \n",
       "3259                     0               0          0  inactive  \n",
       "3260                     0               0          0  inactive  "
      ]
     },
     "execution_count": 14,
     "metadata": {},
     "output_type": "execute_result"
    }
   ],
   "source": [
    "stations[stations['kind'] == 'inactive']  # out for maintanance"
   ]
  },
  {
   "cell_type": "code",
   "execution_count": 15,
   "metadata": {
    "collapsed": false
   },
   "outputs": [],
   "source": [
    "stations.to_csv(\"../data/final/june_22_station_metadata.csv\")"
   ]
  },
  {
   "cell_type": "markdown",
   "metadata": {},
   "source": [
    "Conclusion:\n",
    "\n",
    "Ok, so at this point I am going to defer on doing the bike roundabout thing because it actually involves a *lot* more work.\n",
    "\n",
    "I will concentrate on mapping stations instead, for now, and gathering up all of the data (which I am realizing will also need to be transformed yet again later...sigh)."
   ]
  },
  {
   "cell_type": "code",
   "execution_count": 16,
   "metadata": {
    "collapsed": true
   },
   "outputs": [],
   "source": [
    "# all_bike_ids = set(july_22['bike id'])\n",
    "# station_counts = pd.Series(0, index=stations.index)\n",
    "\n",
    "# for bike_id in all_bike_ids:\n",
    "#     trips = july_22[july_22['start station id'] == station_id]\n",
    "#     start_station_trip = july_22.sort_values(by='starttime', ascending=False).iloc[0]\n",
    "#     start_station = start_station_trip['start station id']\n",
    "#     station_counts"
   ]
  }
 ],
 "metadata": {
  "kernelspec": {
   "display_name": "Python 3",
   "language": "python",
   "name": "python3"
  },
  "language_info": {
   "codemirror_mode": {
    "name": "ipython",
    "version": 3
   },
   "file_extension": ".py",
   "mimetype": "text/x-python",
   "name": "python",
   "nbconvert_exporter": "python",
   "pygments_lexer": "ipython3",
   "version": "3.5.2"
  }
 },
 "nbformat": 4,
 "nbformat_minor": 0
}
