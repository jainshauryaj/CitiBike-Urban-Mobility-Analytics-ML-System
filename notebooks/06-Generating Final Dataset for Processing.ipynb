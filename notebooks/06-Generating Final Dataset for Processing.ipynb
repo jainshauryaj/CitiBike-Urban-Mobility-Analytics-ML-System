{
 "cells": [
  {
   "cell_type": "markdown",
   "metadata": {},
   "source": [
    "Remember, the raw data includes ordinary CitiBike trips but excludes an important wrinkle: rebalancing trips. These, too, need to be incorporated.\n",
    "\n",
    "While doing the citibike weekly data generation I got around this problem by leaving the full dataset compilation step until I got to the geocoding. This was necessary because calculating full start and end times for a rebalanced trip is easiest to do by querying the Google API and getting back a trip estimate time.\n",
    "\n",
    "However for the expanded scope of the viz envisioned since, this is too limiting. I need to actually be able to generate a single unified file *before* I start intensively processing trips and depositing them into my data store.\n",
    "\n",
    "So what I decided I will do is check the trips to get rebalancing trips, as before, but this time query the Google API ahead of time, run those trips through their API, get the estimated trip time, discard the rest of the response (!), and generate and embed a new trip in the dataset using that trip time.\n",
    "\n",
    "This is a little wasteful of resources, but strikes me as being simply too necessary to ignore. If I were to defer doing this until the final data processing and storage step, I would have to somehow account for those additional trips in my rate-limit monitoring, and somehow know how to encode them (hash them?). Doing it beforehand may waste a day's worth of API queries, but it will also make actually deaing with stuffing the data into the storage layer much easier.\n",
    "\n",
    "An important caveat to consider is when a bike recieves a rebalancing trip, and that rebalancing trip is its end of day. For instance, suppose the raw data says that bike 112233 was ridden to station B on June 22, but then on June 23 it was ridden from station C. Then in between those two start and end times there was a rebalancing trip. But wait a minute, what if our standard estimation technique&mdash;interpolating midway&mdash;gives us a transfer time at 12:20-1:00 PM early June 23, after our visualization period has ended? What then?\n",
    "\n",
    "As you can see, considering this limiting case is solvable by broadcasting against the bike trips remaining for the month, but I given the low volume of rebalancing trips in the first place I decided that honestly it's not worth the additional complexity. So the final visualization will have that one important caveat: bike transfers which occur during June 22nd but which occur after any rides on that day are not accounted for.\n",
    "\n",
    "I will also calculate a unique id&mdash;this is useful for rate-limiting the data deposit script."
   ]
  },
  {
   "cell_type": "code",
   "execution_count": 1,
   "metadata": {
    "collapsed": false
   },
   "outputs": [],
   "source": [
    "import pandas as pd\n",
    "import os\n",
    "import sys\n",
    "from tqdm import tqdm\n",
    "module_path = os.path.abspath(os.path.join('..'))\n",
    "if module_path not in sys.path:\n",
    "    sys.path.append(module_path)\n",
    "from src import citibike_trips"
   ]
  },
  {
   "cell_type": "code",
   "execution_count": 2,
   "metadata": {
    "collapsed": false
   },
   "outputs": [],
   "source": [
    "raw_data = pd.read_csv(\"../data/part_2/citibike_trips_on_june_22_2016.csv\", index_col=0)"
   ]
  },
  {
   "cell_type": "code",
   "execution_count": 3,
   "metadata": {
    "collapsed": false
   },
   "outputs": [
    {
     "data": {
      "text/plain": [
       "6/22/2016    55749\n",
       "Name: starttime, dtype: int64"
      ]
     },
     "execution_count": 3,
     "metadata": {},
     "output_type": "execute_result"
    }
   ],
   "source": [
    "raw_data['starttime'].map(lambda time: time[:9]).value_counts()"
   ]
  },
  {
   "cell_type": "code",
   "execution_count": 4,
   "metadata": {
    "collapsed": false
   },
   "outputs": [],
   "source": [
    "bike_ids = set(raw_data['bikeid'].values)\n",
    "bike_trip_sets = [raw_data[raw_data['bikeid'] == bike_id].sort_values(by='starttime') for bike_id in bike_ids]"
   ]
  },
  {
   "cell_type": "markdown",
   "metadata": {},
   "source": [
    "Here's an example of a tripset which included a needs-to-be-generated rebalanced trip."
   ]
  },
  {
   "cell_type": "code",
   "execution_count": 5,
   "metadata": {
    "collapsed": false
   },
   "outputs": [
    {
     "data": {
      "text/html": [
       "<div>\n",
       "<table border=\"1\" class=\"dataframe\">\n",
       "  <thead>\n",
       "    <tr style=\"text-align: right;\">\n",
       "      <th></th>\n",
       "      <th>tripduration</th>\n",
       "      <th>starttime</th>\n",
       "      <th>stoptime</th>\n",
       "      <th>start station id</th>\n",
       "      <th>start station name</th>\n",
       "      <th>start station latitude</th>\n",
       "      <th>start station longitude</th>\n",
       "      <th>end station id</th>\n",
       "      <th>end station name</th>\n",
       "      <th>end station latitude</th>\n",
       "      <th>end station longitude</th>\n",
       "      <th>bikeid</th>\n",
       "      <th>usertype</th>\n",
       "      <th>birth year</th>\n",
       "      <th>gender</th>\n",
       "    </tr>\n",
       "  </thead>\n",
       "  <tbody>\n",
       "    <tr>\n",
       "      <th>1009289</th>\n",
       "      <td>566</td>\n",
       "      <td>6/22/2016 07:40:55</td>\n",
       "      <td>6/22/2016 07:50:21</td>\n",
       "      <td>3230</td>\n",
       "      <td>Penn Station Valet</td>\n",
       "      <td>40.751284</td>\n",
       "      <td>-73.996924</td>\n",
       "      <td>153</td>\n",
       "      <td>E 40 St &amp; 5 Ave</td>\n",
       "      <td>40.752062</td>\n",
       "      <td>-73.981632</td>\n",
       "      <td>15636</td>\n",
       "      <td>Subscriber</td>\n",
       "      <td>1976.0</td>\n",
       "      <td>1</td>\n",
       "    </tr>\n",
       "    <tr>\n",
       "      <th>1009990</th>\n",
       "      <td>716</td>\n",
       "      <td>6/22/2016 07:51:39</td>\n",
       "      <td>6/22/2016 08:03:35</td>\n",
       "      <td>153</td>\n",
       "      <td>E 40 St &amp; 5 Ave</td>\n",
       "      <td>40.752062</td>\n",
       "      <td>-73.981632</td>\n",
       "      <td>3236</td>\n",
       "      <td>W 42 St &amp; Dyer Ave</td>\n",
       "      <td>40.758985</td>\n",
       "      <td>-73.993800</td>\n",
       "      <td>15636</td>\n",
       "      <td>Subscriber</td>\n",
       "      <td>1959.0</td>\n",
       "      <td>1</td>\n",
       "    </tr>\n",
       "    <tr>\n",
       "      <th>1010891</th>\n",
       "      <td>304</td>\n",
       "      <td>6/22/2016 08:04:34</td>\n",
       "      <td>6/22/2016 08:09:39</td>\n",
       "      <td>3236</td>\n",
       "      <td>W 42 St &amp; Dyer Ave</td>\n",
       "      <td>40.758985</td>\n",
       "      <td>-73.993800</td>\n",
       "      <td>513</td>\n",
       "      <td>W 56 St &amp; 10 Ave</td>\n",
       "      <td>40.768254</td>\n",
       "      <td>-73.988639</td>\n",
       "      <td>15636</td>\n",
       "      <td>Subscriber</td>\n",
       "      <td>1969.0</td>\n",
       "      <td>1</td>\n",
       "    </tr>\n",
       "    <tr>\n",
       "      <th>1011481</th>\n",
       "      <td>861</td>\n",
       "      <td>6/22/2016 08:11:43</td>\n",
       "      <td>6/22/2016 08:26:04</td>\n",
       "      <td>513</td>\n",
       "      <td>W 56 St &amp; 10 Ave</td>\n",
       "      <td>40.768254</td>\n",
       "      <td>-73.988639</td>\n",
       "      <td>470</td>\n",
       "      <td>W 20 St &amp; 8 Ave</td>\n",
       "      <td>40.743453</td>\n",
       "      <td>-74.000040</td>\n",
       "      <td>15636</td>\n",
       "      <td>Subscriber</td>\n",
       "      <td>1945.0</td>\n",
       "      <td>1</td>\n",
       "    </tr>\n",
       "    <tr>\n",
       "      <th>1012800</th>\n",
       "      <td>1133</td>\n",
       "      <td>6/22/2016 08:27:26</td>\n",
       "      <td>6/22/2016 08:46:20</td>\n",
       "      <td>470</td>\n",
       "      <td>W 20 St &amp; 8 Ave</td>\n",
       "      <td>40.743453</td>\n",
       "      <td>-74.000040</td>\n",
       "      <td>534</td>\n",
       "      <td>Water - Whitehall Plaza</td>\n",
       "      <td>40.702551</td>\n",
       "      <td>-74.012723</td>\n",
       "      <td>15636</td>\n",
       "      <td>Subscriber</td>\n",
       "      <td>1991.0</td>\n",
       "      <td>1</td>\n",
       "    </tr>\n",
       "    <tr>\n",
       "      <th>1017376</th>\n",
       "      <td>113</td>\n",
       "      <td>6/22/2016 09:16:53</td>\n",
       "      <td>6/22/2016 09:18:46</td>\n",
       "      <td>534</td>\n",
       "      <td>Water - Whitehall Plaza</td>\n",
       "      <td>40.702551</td>\n",
       "      <td>-74.012723</td>\n",
       "      <td>304</td>\n",
       "      <td>Broadway &amp; Battery Pl</td>\n",
       "      <td>40.704633</td>\n",
       "      <td>-74.013617</td>\n",
       "      <td>15636</td>\n",
       "      <td>Subscriber</td>\n",
       "      <td>1984.0</td>\n",
       "      <td>1</td>\n",
       "    </tr>\n",
       "    <tr>\n",
       "      <th>1038641</th>\n",
       "      <td>531</td>\n",
       "      <td>6/22/2016 17:18:53</td>\n",
       "      <td>6/22/2016 17:27:45</td>\n",
       "      <td>2000</td>\n",
       "      <td>Front St &amp; Washington St</td>\n",
       "      <td>40.702551</td>\n",
       "      <td>-73.989402</td>\n",
       "      <td>157</td>\n",
       "      <td>Henry St &amp; Atlantic Ave</td>\n",
       "      <td>40.690893</td>\n",
       "      <td>-73.996123</td>\n",
       "      <td>15636</td>\n",
       "      <td>Subscriber</td>\n",
       "      <td>1976.0</td>\n",
       "      <td>1</td>\n",
       "    </tr>\n",
       "  </tbody>\n",
       "</table>\n",
       "</div>"
      ],
      "text/plain": [
       "         tripduration           starttime            stoptime  \\\n",
       "1009289           566  6/22/2016 07:40:55  6/22/2016 07:50:21   \n",
       "1009990           716  6/22/2016 07:51:39  6/22/2016 08:03:35   \n",
       "1010891           304  6/22/2016 08:04:34  6/22/2016 08:09:39   \n",
       "1011481           861  6/22/2016 08:11:43  6/22/2016 08:26:04   \n",
       "1012800          1133  6/22/2016 08:27:26  6/22/2016 08:46:20   \n",
       "1017376           113  6/22/2016 09:16:53  6/22/2016 09:18:46   \n",
       "1038641           531  6/22/2016 17:18:53  6/22/2016 17:27:45   \n",
       "\n",
       "         start station id        start station name  start station latitude  \\\n",
       "1009289              3230        Penn Station Valet               40.751284   \n",
       "1009990               153           E 40 St & 5 Ave               40.752062   \n",
       "1010891              3236        W 42 St & Dyer Ave               40.758985   \n",
       "1011481               513          W 56 St & 10 Ave               40.768254   \n",
       "1012800               470           W 20 St & 8 Ave               40.743453   \n",
       "1017376               534   Water - Whitehall Plaza               40.702551   \n",
       "1038641              2000  Front St & Washington St               40.702551   \n",
       "\n",
       "         start station longitude  end station id         end station name  \\\n",
       "1009289               -73.996924             153          E 40 St & 5 Ave   \n",
       "1009990               -73.981632            3236       W 42 St & Dyer Ave   \n",
       "1010891               -73.993800             513         W 56 St & 10 Ave   \n",
       "1011481               -73.988639             470          W 20 St & 8 Ave   \n",
       "1012800               -74.000040             534  Water - Whitehall Plaza   \n",
       "1017376               -74.012723             304    Broadway & Battery Pl   \n",
       "1038641               -73.989402             157  Henry St & Atlantic Ave   \n",
       "\n",
       "         end station latitude  end station longitude  bikeid    usertype  \\\n",
       "1009289             40.752062             -73.981632   15636  Subscriber   \n",
       "1009990             40.758985             -73.993800   15636  Subscriber   \n",
       "1010891             40.768254             -73.988639   15636  Subscriber   \n",
       "1011481             40.743453             -74.000040   15636  Subscriber   \n",
       "1012800             40.702551             -74.012723   15636  Subscriber   \n",
       "1017376             40.704633             -74.013617   15636  Subscriber   \n",
       "1038641             40.690893             -73.996123   15636  Subscriber   \n",
       "\n",
       "         birth year  gender  \n",
       "1009289      1976.0       1  \n",
       "1009990      1959.0       1  \n",
       "1010891      1969.0       1  \n",
       "1011481      1945.0       1  \n",
       "1012800      1991.0       1  \n",
       "1017376      1984.0       1  \n",
       "1038641      1976.0       1  "
      ]
     },
     "execution_count": 5,
     "metadata": {},
     "output_type": "execute_result"
    }
   ],
   "source": [
    "[bike_trip_set for bike_trip_set in bike_trip_sets if bike_trip_set['bikeid'].iloc[0] == 15636][0]"
   ]
  },
  {
   "cell_type": "markdown",
   "metadata": {},
   "source": [
    "I originally made a careless fencepost error in the following code, using `len(bike_trip_set) - 2` instead. This caused the rebalancer not to check for rebalanced trips near the end of the tripset. I only discovered this error weeks later when I implemented a highlighter in the final visualization and discovered that an alarming percentage of my tripsets did not fully connect."
   ]
  },
  {
   "cell_type": "code",
   "execution_count": 6,
   "metadata": {
    "collapsed": false
   },
   "outputs": [
    {
     "name": "stderr",
     "output_type": "stream",
     "text": [
      "100%|█████████████████████████████████████| 6497/6497 [00:22<00:00, 291.18it/s]\n"
     ]
    }
   ],
   "source": [
    "rebalancing_trip_tuples = []\n",
    "for bike_trip_set in tqdm(bike_trip_sets):\n",
    "    for i in range(0, len(bike_trip_set) - 1):\n",
    "        possible_rebalanced_tuple = bike_trip_set.iloc[[i, i + 1]]\n",
    "        if citibike_trips.RebalancingTrip.rebalanced(possible_rebalanced_tuple):\n",
    "            rebalancing_trip_tuples.append(possible_rebalanced_tuple)"
   ]
  },
  {
   "cell_type": "code",
   "execution_count": 7,
   "metadata": {
    "collapsed": false,
    "scrolled": true
   },
   "outputs": [
    {
     "data": {
      "text/plain": [
       "1208"
      ]
     },
     "execution_count": 7,
     "metadata": {},
     "output_type": "execute_result"
    }
   ],
   "source": [
    "len(rebalancing_trip_tuples)"
   ]
  },
  {
   "cell_type": "markdown",
   "metadata": {},
   "source": [
    "The following code checks for this error. The line below should evaluate to `True`."
   ]
  },
  {
   "cell_type": "code",
   "execution_count": 8,
   "metadata": {
    "collapsed": false
   },
   "outputs": [
    {
     "data": {
      "text/plain": [
       "14529"
      ]
     },
     "execution_count": 8,
     "metadata": {},
     "output_type": "execute_result"
    }
   ],
   "source": [
    "rebalancing_trip_tuple = rebalancing_trip_tuples[0]\n",
    "rebalancing_trip_tuple['bikeid'].iloc[0]"
   ]
  },
  {
   "cell_type": "code",
   "execution_count": 9,
   "metadata": {
    "collapsed": false
   },
   "outputs": [],
   "source": [
    "bikes_rebalanced_by_id = [rebalancing_trip_tuple['bikeid'].iloc[0] for rebalancing_trip_tuple in rebalancing_trip_tuples]"
   ]
  },
  {
   "cell_type": "code",
   "execution_count": 10,
   "metadata": {
    "collapsed": false
   },
   "outputs": [
    {
     "data": {
      "text/plain": [
       "True"
      ]
     },
     "execution_count": 10,
     "metadata": {},
     "output_type": "execute_result"
    }
   ],
   "source": [
    "15636 in bikes_rebalanced_by_id"
   ]
  },
  {
   "cell_type": "code",
   "execution_count": 11,
   "metadata": {
    "collapsed": false
   },
   "outputs": [
    {
     "data": {
      "text/plain": [
       "1116"
      ]
     },
     "execution_count": 11,
     "metadata": {},
     "output_type": "execute_result"
    }
   ],
   "source": [
    "len(set(bikes_rebalanced_by_id))"
   ]
  },
  {
   "cell_type": "markdown",
   "metadata": {},
   "source": [
    "Now we may continue."
   ]
  },
  {
   "cell_type": "code",
   "execution_count": 12,
   "metadata": {
    "collapsed": false
   },
   "outputs": [
    {
     "name": "stderr",
     "output_type": "stream",
     "text": [
      "100%|██████████████████████████████████████| 1208/1208 [03:49<00:00,  5.13it/s]\n"
     ]
    }
   ],
   "source": [
    "time_estimates = []\n",
    "client = citibike_trips.initialize_google_client(filename=\"../credentials/google_maps_api_key.json\")\n",
    "for rebalancing_trip_tuple in tqdm(rebalancing_trip_tuples):\n",
    "    start = [rebalancing_trip_tuple.iloc[0]['end station latitude'],\n",
    "             rebalancing_trip_tuple.iloc[0]['end station longitude']]\n",
    "    end = [rebalancing_trip_tuple.iloc[0]['start station latitude'],\n",
    "           rebalancing_trip_tuple.iloc[0]['start station longitude']]\n",
    "    time_estimate = citibike_trips.RebalancingTrip.get_rebalancing_trip_path_time_estimate_tuple(\n",
    "        start, end, client\n",
    "    )[1]\n",
    "    time_estimates.append(int(time_estimate) * 60)"
   ]
  },
  {
   "cell_type": "markdown",
   "metadata": {},
   "source": [
    "Here are the sort times in seconds (maxes out at 33 minutes):"
   ]
  },
  {
   "cell_type": "code",
   "execution_count": 13,
   "metadata": {
    "collapsed": false
   },
   "outputs": [
    {
     "data": {
      "text/plain": [
       "<matplotlib.axes._subplots.AxesSubplot at 0xcfbdc50>"
      ]
     },
     "execution_count": 13,
     "metadata": {},
     "output_type": "execute_result"
    },
    {
     "data": {
      "image/png": "[encoded data removed]",
      "text/plain": [
       "<matplotlib.figure.Figure at 0xc4525c0>"
      ]
     },
     "metadata": {},
     "output_type": "display_data"
    }
   ],
   "source": [
    "%matplotlib inline\n",
    "pd.Series(sorted(time_estimates, reverse=True)).plot()"
   ]
  },
  {
   "cell_type": "code",
   "execution_count": 196,
   "metadata": {
    "collapsed": false
   },
   "outputs": [
    {
     "name": "stderr",
     "output_type": "stream",
     "text": [
      "0it [00:00, ?it/s]C:\\Users\\Alex\\Anaconda3\\envs\\citibike\\lib\\site-packages\\ipykernel\\__main__.py:11: SettingWithCopyWarning: \n",
      "A value is trying to be set on a copy of a slice from a DataFrame\n",
      "\n",
      "See the caveats in the documentation: http://pandas.pydata.org/pandas-docs/stable/indexing.html#indexing-view-versus-copy\n",
      "1208it [06:06,  3.33it/s]\n"
     ]
    }
   ],
   "source": [
    "from datetime import timedelta\n",
    "deltas_subframe = []\n",
    "\n",
    "for t, delta_df in tqdm(zip(time_estimates, rebalancing_trip_tuples)):\n",
    "    # The following code is ripped from the `citibike_trips` RebalancingTrip class definition.\n",
    "    start_point = delta_df.iloc[0]\n",
    "    end_point = delta_df.iloc[1]\n",
    "    for point in [start_point, end_point]:\n",
    "        for time in ['starttime', 'stoptime']:\n",
    "            if isinstance(point[time], str):\n",
    "                point[time] = pd.to_datetime(point[time], infer_datetime_format=True)\n",
    "    midpoint_time = start_point['stoptime'] + ((end_point['starttime'] - start_point['stoptime']) / 2)\n",
    "    rebalancing_start_time = midpoint_time - timedelta(seconds=t / 2)\n",
    "    rebalancing_end_time = midpoint_time + timedelta(seconds=t / 2)\n",
    "    if rebalancing_start_time < start_point['stoptime']:\n",
    "        rebalancing_start_time = start_point['stoptime']\n",
    "    if rebalancing_end_time > end_point['starttime']:\n",
    "        rebalancing_end_time = end_point['starttime']\n",
    "    # Explicit casts are due to mongodb limitations, see BikeTrip above.\n",
    "    attributes = {\n",
    "        \"tripduration\": int(t),\n",
    "        \"start station id\": int(start_point['end station id']),\n",
    "        \"end station id\": int(end_point['start station id']),\n",
    "        \"start station name\": start_point['end station name'],\n",
    "        \"end station name\": end_point['start station name'],\n",
    "        \"bikeid\": int(start_point[\"bikeid\"]),\n",
    "        \"usertype\": \"Rebalancing\",\n",
    "        \"birth year\": 0,\n",
    "        \"gender\": 3,\n",
    "        \"start station latitude\": start_point['end station latitude'],\n",
    "        \"start station longitude\": start_point['end station longitude'],\n",
    "        \"end station latitude\": end_point['start station latitude'],\n",
    "        \"end station longitude\": end_point['start station longitude'],\n",
    "#         \"starttime\": rebalancing_start_time.strftime(\"%Y-%d-%m %H:%M:%S\"),\n",
    "#         \"stoptime\": rebalancing_end_time.strftime(\"%Y-%d-%m %H:%M:%S\"),\n",
    "        \"starttime\": rebalancing_start_time.strftime(\"%m/%d/%Y %H:%M:%S\").lstrip('0'),\n",
    "        \"stoptime\": rebalancing_end_time.strftime(\"%m/%d/%Y %H:%M:%S\").lstrip('0'),\n",
    "    }\n",
    "    deltas_subframe.append(attributes)\n",
    "    # TODO: Next stage of the logic."
   ]
  },
  {
   "cell_type": "code",
   "execution_count": 216,
   "metadata": {
    "collapsed": false
   },
   "outputs": [
    {
     "data": {
      "text/html": [
       "<div>\n",
       "<table border=\"1\" class=\"dataframe\">\n",
       "  <thead>\n",
       "    <tr style=\"text-align: right;\">\n",
       "      <th></th>\n",
       "      <th>bikeid</th>\n",
       "      <th>birth year</th>\n",
       "      <th>end station id</th>\n",
       "      <th>end station latitude</th>\n",
       "      <th>end station longitude</th>\n",
       "      <th>end station name</th>\n",
       "      <th>gender</th>\n",
       "      <th>start station id</th>\n",
       "      <th>start station latitude</th>\n",
       "      <th>start station longitude</th>\n",
       "      <th>start station name</th>\n",
       "      <th>starttime</th>\n",
       "      <th>stoptime</th>\n",
       "      <th>tripduration</th>\n",
       "      <th>usertype</th>\n",
       "    </tr>\n",
       "  </thead>\n",
       "  <tbody>\n",
       "    <tr>\n",
       "      <th>0</th>\n",
       "      <td>14529</td>\n",
       "      <td>0</td>\n",
       "      <td>267</td>\n",
       "      <td>40.751</td>\n",
       "      <td>-73.9877</td>\n",
       "      <td>Broadway &amp; W 36 St</td>\n",
       "      <td>3</td>\n",
       "      <td>546</td>\n",
       "      <td>40.7444</td>\n",
       "      <td>-73.983</td>\n",
       "      <td>E 30 St &amp; Park Ave S</td>\n",
       "      <td>6/22/2016 11:04:06</td>\n",
       "      <td>6/22/2016 11:22:06</td>\n",
       "      <td>1080</td>\n",
       "      <td>Rebalancing</td>\n",
       "    </tr>\n",
       "  </tbody>\n",
       "</table>\n",
       "</div>"
      ],
      "text/plain": [
       "   bikeid birth year end station id end station latitude  \\\n",
       "0   14529          0            267               40.751   \n",
       "\n",
       "  end station longitude    end station name gender start station id  \\\n",
       "0              -73.9877  Broadway & W 36 St      3              546   \n",
       "\n",
       "  start station latitude start station longitude    start station name  \\\n",
       "0                40.7444                 -73.983  E 30 St & Park Ave S   \n",
       "\n",
       "            starttime            stoptime tripduration     usertype  \n",
       "0  6/22/2016 11:04:06  6/22/2016 11:22:06         1080  Rebalancing  "
      ]
     },
     "execution_count": 216,
     "metadata": {},
     "output_type": "execute_result"
    }
   ],
   "source": [
    "all_rebalancing_trips.head(1)"
   ]
  },
  {
   "cell_type": "code",
   "execution_count": 217,
   "metadata": {
    "collapsed": true
   },
   "outputs": [],
   "source": [
    "all_trips = pd.concat([raw_data, all_rebalancing_trips])"
   ]
  },
  {
   "cell_type": "code",
   "execution_count": 218,
   "metadata": {
    "collapsed": false,
    "scrolled": true
   },
   "outputs": [
    {
     "data": {
      "text/plain": [
       "56957"
      ]
     },
     "execution_count": 218,
     "metadata": {},
     "output_type": "execute_result"
    }
   ],
   "source": [
    "len(all_trips)"
   ]
  },
  {
   "cell_type": "markdown",
   "metadata": {},
   "source": [
    "People can return bikes late. Really, really late."
   ]
  },
  {
   "cell_type": "code",
   "execution_count": 219,
   "metadata": {
    "collapsed": false
   },
   "outputs": [
    {
     "data": {
      "text/plain": [
       "1033011     7/5/2016 13:53:21\n",
       "1041559    6/29/2016 21:30:34\n",
       "1018409    6/27/2016 14:09:56\n",
       "1046130    6/26/2016 18:16:59\n",
       "1056621    6/26/2016 03:30:55\n",
       "Name: stoptime, dtype: object"
      ]
     },
     "execution_count": 219,
     "metadata": {},
     "output_type": "execute_result"
    }
   ],
   "source": [
    "all_trips['stoptime'].sort_values(ascending=False)[:5]"
   ]
  },
  {
   "cell_type": "markdown",
   "metadata": {},
   "source": [
    "Let's exclude these trips."
   ]
  },
  {
   "cell_type": "code",
   "execution_count": 220,
   "metadata": {
    "collapsed": false
   },
   "outputs": [
    {
     "data": {
      "text/plain": [
       "'6/22/2016 00:13:17'"
      ]
     },
     "execution_count": 220,
     "metadata": {},
     "output_type": "execute_result"
    }
   ],
   "source": [
    "all_trips['stoptime'].iloc[0]"
   ]
  },
  {
   "cell_type": "code",
   "execution_count": 221,
   "metadata": {
    "collapsed": false
   },
   "outputs": [
    {
     "data": {
      "text/plain": [
       "True     56759\n",
       "False      198\n",
       "Name: stoptime, dtype: int64"
      ]
     },
     "execution_count": 221,
     "metadata": {},
     "output_type": "execute_result"
    }
   ],
   "source": [
    "all_trips['stoptime'].map(lambda time: time[:9] == '6/22/2016').value_counts()"
   ]
  },
  {
   "cell_type": "code",
   "execution_count": 222,
   "metadata": {
    "collapsed": false
   },
   "outputs": [
    {
     "data": {
      "text/plain": [
       "True    56957\n",
       "Name: starttime, dtype: int64"
      ]
     },
     "execution_count": 222,
     "metadata": {},
     "output_type": "execute_result"
    }
   ],
   "source": [
    "all_trips['starttime'].map(lambda time: time[:9] == '6/22/2016').value_counts()"
   ]
  },
  {
   "cell_type": "code",
   "execution_count": 224,
   "metadata": {
    "collapsed": false
   },
   "outputs": [
    {
     "data": {
      "text/plain": [
       "True"
      ]
     },
     "execution_count": 224,
     "metadata": {},
     "output_type": "execute_result"
    }
   ],
   "source": [
    "15636 in all_trips['bikeid'].values"
   ]
  },
  {
   "cell_type": "code",
   "execution_count": 225,
   "metadata": {
    "collapsed": false
   },
   "outputs": [],
   "source": [
    "all_trips_filtered = all_trips[(all_trips['stoptime'].map(lambda time: time[:9] == '6/22/2016')) & \n",
    "                               (all_trips['starttime'].map(lambda time: time[:9] == '6/22/2016'))]\n",
    "all_trips_filtered.to_csv(\"../data/final/all_june_22_citibike_trips.csv\", index_col=0)"
   ]
  },
  {
   "cell_type": "markdown",
   "metadata": {},
   "source": [
    "The following should contain `6/22/2016` entries ONLY."
   ]
  },
  {
   "cell_type": "code",
   "execution_count": 231,
   "metadata": {
    "collapsed": false
   },
   "outputs": [
    {
     "data": {
      "text/plain": [
       "6/22/2016    56759\n",
       "Name: starttime, dtype: int64"
      ]
     },
     "execution_count": 231,
     "metadata": {},
     "output_type": "execute_result"
    }
   ],
   "source": [
    "all_trips['starttime'].map(lambda time: time[:9]).value_counts()"
   ]
  },
  {
   "cell_type": "code",
   "execution_count": 232,
   "metadata": {
    "collapsed": false
   },
   "outputs": [
    {
     "data": {
      "text/plain": [
       "6/22/2016    56759\n",
       "Name: stoptime, dtype: int64"
      ]
     },
     "execution_count": 232,
     "metadata": {},
     "output_type": "execute_result"
    }
   ],
   "source": [
    "all_trips['stoptime'].map(lambda time: time[:9]).value_counts()"
   ]
  }
 ],
 "metadata": {
  "kernelspec": {
   "display_name": "Python 3",
   "language": "python",
   "name": "python3"
  },
  "language_info": {
   "codemirror_mode": {
    "name": "ipython",
    "version": 3
   },
   "file_extension": ".py",
   "mimetype": "text/x-python",
   "name": "python",
   "nbconvert_exporter": "python",
   "pygments_lexer": "ipython3",
   "version": "3.5.2"
  }
 },
 "nbformat": 4,
 "nbformat_minor": 0
}
