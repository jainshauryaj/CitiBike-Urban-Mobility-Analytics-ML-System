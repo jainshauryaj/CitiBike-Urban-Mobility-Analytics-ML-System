{
 "cells": [
  {
   "cell_type": "markdown",
   "metadata": {},
   "source": [
    "# Most Active Bike-Day Scoping\n",
    "\n",
    "A bunch of time passed in between my writing the last notebook and this current one, during which I (in addition to slacking off a lot) wrote up the pieces of code assembled therein into a right proper module (`citibike_weeks`), wrote tests for it, wrote some scripts, dumped some data into the data store, and started working on the visualization.\n",
    "\n",
    "However as I was staring at the big pretty splash of bike-trip paths, I realized that I was missing an opportunity. The CitiBike system is a giant Markov chain, and here I was following a single thread here or there. I could continue to consider the case of a single bike, or I could throw out everything I've done so far and start anew in order to generate a bigger granded cooler visualization, one focusing around the movement of bikes between stations on the busiest day of the year. The new idea was twofold: visualize stations over the course of a day, keeping track of a chosen station's comings and goings; and visualize bike-sets over the course of a day, watching where the bikes that started at one particular station ended up by the end of the day.\n",
    "\n",
    "Given the choice between keeping the work that I had done and modulating it, and doing a newer bigger awesomer thing, guess what I picked...\n",
    "\n",
    "Right, first step of that, then. What *is* the most bike-heavy day of the year? I decided that taking 2015 data wouldn't cut it&mdash;let's instead take the busiest day from the first half of 2016 and run with it!\n",
    "\n",
    "Figuring that out is the purview of this notebook.\n",
    "\n",
    "To start with, it has to be one of April, May, or June, per [seasonal trends](http://toddwschneider.com/posts/a-tale-of-twenty-two-million-citi-bikes-analyzing-the-nyc-bike-share-system/). So all we have to do is get those three months' datasets, smush them together, index by datetime string fragment, do a value count, and pick a winner!\n",
    "\n",
    "(some other things come later of course)"
   ]
  },
  {
   "cell_type": "code",
   "execution_count": 7,
   "metadata": {
    "collapsed": false
   },
   "outputs": [],
   "source": [
    "import requests\n",
    "import pandas as pd\n",
    "import numpy as np\n",
    "import matplotlib.pyplot as plt\n",
    "import seaborn as sns\n",
    "import zipfile\n",
    "import io\n",
    "%matplotlib inline"
   ]
  },
  {
   "cell_type": "code",
   "execution_count": 8,
   "metadata": {
    "collapsed": false
   },
   "outputs": [],
   "source": [
    "trip_data = []\n",
    "r = requests.get('https://s3.amazonaws.com/tripdata/201603-citibike-tripdata.zip')\n",
    "with zipfile.ZipFile(io.BytesIO(r.content)) as ar:\n",
    "    trip_data.append(pd.read_csv(ar.open('201603-citibike-tripdata.csv')))\n",
    "r = requests.get('https://s3.amazonaws.com/tripdata/201604-citibike-tripdata.zip')\n",
    "with zipfile.ZipFile(io.BytesIO(r.content)) as ar:\n",
    "    trip_data.append(pd.read_csv(ar.open('201604-citibike-tripdata.csv')))\n",
    "r = requests.get('https://s3.amazonaws.com/tripdata/201605-citibike-tripdata.zip')\n",
    "with zipfile.ZipFile(io.BytesIO(r.content)) as ar:\n",
    "    trip_data.append(pd.read_csv(ar.open('201605-citibike-tripdata.csv')))\n",
    "r = requests.get('https://s3.amazonaws.com/tripdata/201606-citibike-tripdata.zip')\n",
    "with zipfile.ZipFile(io.BytesIO(r.content)) as ar:\n",
    "    trip_data.append(pd.read_csv(ar.open('201606-citibike-tripdata.csv')))\n",
    "trip_data = pd.concat(trip_data)"
   ]
  },
  {
   "cell_type": "code",
   "execution_count": 9,
   "metadata": {
    "collapsed": false
   },
   "outputs": [
    {
     "data": {
      "text/plain": [
       "Index(['tripduration', 'starttime', 'stoptime', 'start station id',\n",
       "       'start station name', 'start station latitude',\n",
       "       'start station longitude', 'end station id', 'end station name',\n",
       "       'end station latitude', 'end station longitude', 'bikeid', 'usertype',\n",
       "       'birth year', 'gender'],\n",
       "      dtype='object')"
      ]
     },
     "execution_count": 9,
     "metadata": {},
     "output_type": "execute_result"
    }
   ],
   "source": [
    "trip_data.columns"
   ]
  },
  {
   "cell_type": "code",
   "execution_count": 12,
   "metadata": {
    "collapsed": false
   },
   "outputs": [
    {
     "data": {
      "text/plain": [
       "6/22/2016    55749\n",
       "6/15/2016    55049\n",
       "6/29/2016    54882\n",
       "6/30/2016    54843\n",
       "6/14/2016    54813\n",
       "6/1/2016     54665\n",
       "6/2/2016     54401\n",
       "6/17/2016    54236\n",
       "6/24/2016    54186\n",
       "6/21/2016    53564\n",
       "5/25/2016    53439\n",
       "6/10/2016    53299\n",
       "6/23/2016    53206\n",
       "6/9/2016     52905\n",
       "5/20/2016    52543\n",
       "5/12/2016    52273\n",
       "6/20/2016    52247\n",
       "6/6/2016     52149\n",
       "5/26/2016    52133\n",
       "6/7/2016     51812\n",
       "5/11/2016    51181\n",
       "5/31/2016    49756\n",
       "6/28/2016    49593\n",
       "5/19/2016    49182\n",
       "6/13/2016    49069\n",
       "6/18/2016    48901\n",
       "4/22/2016    48815\n",
       "5/23/2016    48578\n",
       "6/27/2016    47023\n",
       "5/27/2016    46937\n",
       "             ...  \n",
       "4/8/2016     30817\n",
       "5/21/2016    30519\n",
       "3/1/2016     30509\n",
       "4/7/2016     30402\n",
       "4/6/2016     29365\n",
       "5/15/2016    28661\n",
       "3/13/2016    27550\n",
       "3/26/2016    27478\n",
       "3/21/2016    26414\n",
       "4/5/2016     26238\n",
       "3/2/2016     26195\n",
       "3/3/2016     24061\n",
       "3/19/2016    24048\n",
       "4/12/2016    23765\n",
       "4/10/2016    23229\n",
       "5/3/2016     22858\n",
       "3/27/2016    22483\n",
       "6/5/2016     22397\n",
       "4/2/2016     21839\n",
       "3/28/2016    20345\n",
       "5/6/2016     18860\n",
       "3/6/2016     18832\n",
       "3/5/2016     18023\n",
       "3/4/2016     17369\n",
       "3/20/2016    16678\n",
       "4/3/2016     15322\n",
       "4/9/2016     12702\n",
       "4/4/2016     12302\n",
       "3/14/2016    10930\n",
       "5/1/2016     10697\n",
       "Name: starttime, dtype: int64"
      ]
     },
     "execution_count": 12,
     "metadata": {},
     "output_type": "execute_result"
    }
   ],
   "source": [
    "trip_data['starttime'].map(lambda t: t.split(\" \")[0]).value_counts()"
   ]
  },
  {
   "cell_type": "markdown",
   "metadata": {},
   "source": [
    "June 22nd wins!"
   ]
  },
  {
   "cell_type": "code",
   "execution_count": 13,
   "metadata": {
    "collapsed": false
   },
   "outputs": [
    {
     "data": {
      "text/plain": [
       "<matplotlib.axes._subplots.AxesSubplot at 0x110050128>"
      ]
     },
     "execution_count": 13,
     "metadata": {},
     "output_type": "execute_result"
    },
    {
     "data": {
      "image/png": "[encoded data removed]",
      "text/plain": [
       "<matplotlib.figure.Figure at 0x1100456d8>"
      ]
     },
     "metadata": {},
     "output_type": "display_data"
    }
   ],
   "source": [
    "trip_data['starttime'].map(lambda t: t.split(\" \")[0]).value_counts().sort_index().plot()"
   ]
  },
  {
   "cell_type": "markdown",
   "metadata": {},
   "source": [
    "June was pretty easily the most popular month."
   ]
  },
  {
   "cell_type": "code",
   "execution_count": 14,
   "metadata": {
    "collapsed": true
   },
   "outputs": [],
   "source": [
    "indexer = trip_data['starttime'].map(lambda t: t.split(\" \")[0] == '6/22/2016')"
   ]
  },
  {
   "cell_type": "code",
   "execution_count": 16,
   "metadata": {
    "collapsed": false
   },
   "outputs": [
    {
     "data": {
      "text/html": [
       "<div>\n",
       "<table border=\"1\" class=\"dataframe\">\n",
       "  <thead>\n",
       "    <tr style=\"text-align: right;\">\n",
       "      <th></th>\n",
       "      <th>tripduration</th>\n",
       "      <th>starttime</th>\n",
       "      <th>stoptime</th>\n",
       "      <th>start station id</th>\n",
       "      <th>start station name</th>\n",
       "      <th>start station latitude</th>\n",
       "      <th>start station longitude</th>\n",
       "      <th>end station id</th>\n",
       "      <th>end station name</th>\n",
       "      <th>end station latitude</th>\n",
       "      <th>end station longitude</th>\n",
       "      <th>bikeid</th>\n",
       "      <th>usertype</th>\n",
       "      <th>birth year</th>\n",
       "      <th>gender</th>\n",
       "    </tr>\n",
       "  </thead>\n",
       "  <tbody>\n",
       "    <tr>\n",
       "      <th>1004842</th>\n",
       "      <td>785</td>\n",
       "      <td>6/22/2016 00:00:11</td>\n",
       "      <td>6/22/2016 00:13:17</td>\n",
       "      <td>334</td>\n",
       "      <td>W 20 St &amp; 7 Ave</td>\n",
       "      <td>40.742388</td>\n",
       "      <td>-73.997262</td>\n",
       "      <td>450</td>\n",
       "      <td>W 49 St &amp; 8 Ave</td>\n",
       "      <td>40.762272</td>\n",
       "      <td>-73.987882</td>\n",
       "      <td>25585</td>\n",
       "      <td>Subscriber</td>\n",
       "      <td>1978.0</td>\n",
       "      <td>1</td>\n",
       "    </tr>\n",
       "  </tbody>\n",
       "</table>\n",
       "</div>"
      ],
      "text/plain": [
       "         tripduration           starttime            stoptime  \\\n",
       "1004842           785  6/22/2016 00:00:11  6/22/2016 00:13:17   \n",
       "\n",
       "         start station id start station name  start station latitude  \\\n",
       "1004842               334    W 20 St & 7 Ave               40.742388   \n",
       "\n",
       "         start station longitude  end station id end station name  \\\n",
       "1004842               -73.997262             450  W 49 St & 8 Ave   \n",
       "\n",
       "         end station latitude  end station longitude  bikeid    usertype  \\\n",
       "1004842             40.762272             -73.987882   25585  Subscriber   \n",
       "\n",
       "         birth year  gender  \n",
       "1004842      1978.0       1  "
      ]
     },
     "execution_count": 16,
     "metadata": {},
     "output_type": "execute_result"
    }
   ],
   "source": [
    "trip_data[indexer].head(1)"
   ]
  },
  {
   "cell_type": "code",
   "execution_count": 17,
   "metadata": {
    "collapsed": true
   },
   "outputs": [],
   "source": [
    "trip_data[indexer].to_csv(\"../data/part_2/citibike_trips_on_june_22_2016.csv\")"
   ]
  }
 ],
 "metadata": {
  "kernelspec": {
   "display_name": "Python 3",
   "language": "python",
   "name": "python3"
  },
  "language_info": {
   "codemirror_mode": {
    "name": "ipython",
    "version": 3
   },
   "file_extension": ".py",
   "mimetype": "text/x-python",
   "name": "python",
   "nbconvert_exporter": "python",
   "pygments_lexer": "ipython3",
   "version": "3.5.2"
  }
 },
 "nbformat": 4,
 "nbformat_minor": 0
}
